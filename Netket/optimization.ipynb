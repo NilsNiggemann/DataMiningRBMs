{
 "cells": [
  {
   "cell_type": "code",
   "execution_count": null,
   "id": "a5990628",
   "metadata": {},
   "outputs": [],
   "source": [
    "from optimization import *"
   ]
  },
  {
   "cell_type": "code",
   "execution_count": null,
   "id": "4082aff7",
   "metadata": {},
   "outputs": [],
   "source": [
    "# Todo: replace this function with actual file reading\n",
    "def readHamiltonian_params(file, idx, N):\n",
    "    Jijalphabeta = np.random.rand(3, 3, N, N)\n",
    "    h = np.random.rand(3, N)\n",
    "\n",
    "    # Delete 90% of the elements randomly in Jijalphabeta\n",
    "    mask_J = np.random.rand(3, 3, N, N) < 0.1\n",
    "    Jijalphabeta = Jijalphabeta * mask_J\n",
    "\n",
    "    # Delete 90% of the elements randomly in h\n",
    "    mask_h = np.random.rand(3, N) < 0.1\n",
    "    h = h * mask_h\n",
    "\n",
    "    return Jijalphabeta, h\n",
    "\n",
    "\n",
    "def generate_tfim_params(N, J=1.0, h=1.0):\n",
    "    \"\"\"\n",
    "    Generates Jij and h arrays for the transverse field Ising model (TFIM):\n",
    "    H = -J sum_{<i,j>} sigma^z_i sigma^z_j - h sum_i sigma^x_i\n",
    "\n",
    "    Args:\n",
    "        N (int): Number of spins (1D chain with periodic boundary).\n",
    "        J (float): Coupling strength.\n",
    "        h (float): Transverse field strength.\n",
    "\n",
    "    Returns:\n",
    "        Jij (np.ndarray): shape (3, 3, N, N), only Jij[2,2,i,j] nonzero for nearest neighbors.\n",
    "        h (np.ndarray): shape (3, N), only h[0,i] nonzero (x direction).\n",
    "    \"\"\"\n",
    "    Jij = np.zeros((3, 3, N, N))\n",
    "    for i in range(N):\n",
    "        j = (i + 1) % N  # periodic boundary\n",
    "        Jij[2, 2, i, j] = -J\n",
    "        Jij[2, 2, j, i] = -J  # symmetric\n",
    "\n",
    "    h_arr = np.zeros((3, N))\n",
    "    h_arr[0, :] = -h  # transverse field in x direction\n",
    "\n",
    "    return Jij, h_arr"
   ]
  },
  {
   "cell_type": "code",
   "execution_count": null,
   "id": "e699f6ef",
   "metadata": {},
   "outputs": [],
   "source": [
    "Jij, h = readHamiltonian_params(\"hamiltonian_params.txt\", 0, 4)\n",
    "# Jij, h = generate_tfim_params(10, J=-1.0, h=1.0)\n",
    "H = construct_hamiltonian(Jij, h)\n",
    "exact_ground_energy,exact_ground_state = nk.exact.lanczos_ed(H, k = 1, compute_eigenvectors = True)\n",
    "print(\"Exact ground state energy:\", exact_ground_energy)"
   ]
  },
  {
   "cell_type": "code",
   "execution_count": null,
   "id": "d779024c",
   "metadata": {},
   "outputs": [],
   "source": [
    "Jij_hash = hash(Jij.tobytes())\n",
    "h_hash = hash(h.tobytes())\n",
    "\n",
    "params = generate_params(\n",
    "    alpha=1000,\n",
    "    seed=1234,\n",
    "    learning_rate=3e-4,\n",
    "    n_iter=5000,\n",
    "    show_progress=True,\n",
    "    out=\"data/rbm_optimization_test\",\n",
    "    # Jij_hash=Jij_hash,\n",
    "    # h_hash=h_hash,\n",
    ")\n",
    "\n",
    "out = optimize_rbm(H, params)\n"
   ]
  },
  {
   "cell_type": "code",
   "execution_count": null,
   "id": "b7a81b0d",
   "metadata": {},
   "outputs": [],
   "source": [
    "# import the data from log file\n",
    "import matplotlib.pyplot as plt\n",
    "data_Jastrow = json.load(open(params[\"out\"]+\".log\"))\n",
    "\n",
    "iters_Jastrow = data_Jastrow[\"Energy\"][\"iters\"]\n",
    "# energy_Jastrow = np.real(data_Jastrow[\"Energy\"][\"Mean\"])\n",
    "energy_Jastrow = data_Jastrow[\"Energy\"][\"Mean\"][\"real\"]\n",
    "energy_diff = np.abs(energy_Jastrow - exact_ground_energy[0])\n",
    "\n",
    "fig, ax2 = plt.subplots()\n",
    "ax2.plot(iters_Jastrow, energy_diff, color=\"C1\", label=\"|Energy - Exact|\")\n",
    "ax2.set_yscale(\"log\")\n",
    "ax2.set_ylabel(\"Energy Difference (log scale)\")\n",
    "ax2.set_xlabel(\"Iteration\")\n",
    "ax2.legend()\n",
    "plt.show()\n"
   ]
  },
  {
   "cell_type": "code",
   "execution_count": null,
   "id": "137e5456",
   "metadata": {},
   "outputs": [],
   "source": [
    "write_output(H, out, params)"
   ]
  }
 ],
 "metadata": {
  "kernelspec": {
   "display_name": "venv",
   "language": "python",
   "name": "python3"
  },
  "language_info": {
   "codemirror_mode": {
    "name": "ipython",
    "version": 3
   },
   "file_extension": ".py",
   "mimetype": "text/x-python",
   "name": "python",
   "nbconvert_exporter": "python",
   "pygments_lexer": "ipython3",
   "version": "3.13.5"
  }
 },
 "nbformat": 4,
 "nbformat_minor": 5
}
