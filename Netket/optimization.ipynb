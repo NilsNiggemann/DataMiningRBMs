{
 "cells": [
  {
   "cell_type": "code",
   "execution_count": null,
   "id": "a5990628",
   "metadata": {},
   "outputs": [],
   "source": [
    "from optimization import *\n",
    "import sys\n",
    "sys.path.append(\"../python\")\n",
    "import parseCouplings"
   ]
  },
  {
   "cell_type": "code",
   "execution_count": 2,
   "id": "4082aff7",
   "metadata": {},
   "outputs": [],
   "source": [
    "# Todo: replace this function with actual file reading\n",
    "def readHamiltonian_params(file, idx, N):\n",
    "    Jijalphabeta = np.random.rand(3, 3, N, N)\n",
    "    h = np.random.rand(3, N)\n",
    "\n",
    "    # Delete 90% of the elements randomly in Jijalphabeta\n",
    "    mask_J = np.random.rand(3, 3, N, N) < 0.1\n",
    "    Jijalphabeta = Jijalphabeta * mask_J\n",
    "\n",
    "    # Delete 90% of the elements randomly in h\n",
    "    mask_h = np.random.rand(3, N) < 0.1\n",
    "    h = h * mask_h\n",
    "\n",
    "    return Jijalphabeta, h\n",
    "\n",
    "\n",
    "def generate_tfim_params(N, J=1.0, h=1.0):\n",
    "    \"\"\"\n",
    "    Generates Jij and h arrays for the transverse field Ising model (TFIM):\n",
    "    H = -J sum_{<i,j>} sigma^z_i sigma^z_j - h sum_i sigma^x_i\n",
    "\n",
    "    Args:\n",
    "        N (int): Number of spins (1D chain with periodic boundary).\n",
    "        J (float): Coupling strength.\n",
    "        h (float): Transverse field strength.\n",
    "\n",
    "    Returns:\n",
    "        Jij (np.ndarray): shape (3, 3, N, N), only Jij[2,2,i,j] nonzero for nearest neighbors.\n",
    "        h (np.ndarray): shape (3, N), only h[0,i] nonzero (x direction).\n",
    "    \"\"\"\n",
    "    Jij = np.zeros((3, 3, N, N))\n",
    "    for i in range(N):\n",
    "        j = (i + 1) % N  # periodic boundary\n",
    "        Jij[2, 2, i, j] = -J\n",
    "        Jij[2, 2, j, i] = -J  # symmetric\n",
    "\n",
    "    h_arr = np.zeros((3, N))\n",
    "    h_arr[0, :] = -h  # transverse field in x direction\n",
    "\n",
    "    return Jij, h_arr"
   ]
  },
  {
   "cell_type": "code",
   "execution_count": 43,
   "id": "e699f6ef",
   "metadata": {},
   "outputs": [
    {
     "name": "stdout",
     "output_type": "stream",
     "text": [
      "Exact ground state energy: [-1.98881176]\n"
     ]
    }
   ],
   "source": [
    "Jij, h = readHamiltonian_params(\"hamiltonian_params.txt\", 0, 5)\n",
    "# Jij, h = generate_tfim_params(10, J=-1.0, h=1.0)\n",
    "H = construct_hamiltonian(Jij, h)\n",
    "exact_ground_energy,exact_ground_state = nk.exact.lanczos_ed(H, k = 1, compute_eigenvectors = True)\n",
    "print(\"Exact ground state energy:\", exact_ground_energy)"
   ]
  },
  {
   "cell_type": "code",
   "execution_count": 60,
   "id": "ec23e558",
   "metadata": {},
   "outputs": [],
   "source": [
    "def construct_hamiltonian_bonds(Jijalphabeta, h, bonds):\n",
    "    N = h.shape[0]\n",
    "    hilbert = nk.hilbert.Spin(s=0.5, N=N)\n",
    "    pauli = [sigmax, sigmay, sigmaz]\n",
    "\n",
    "    # Interaction terms\n",
    "    interaction_terms = [\n",
    "        Jijalphabeta[bond, alpha, beta] * pauli[alpha](hilbert,i) * pauli[beta](hilbert,j)\n",
    "        for (bond,(i,j)) in enumerate(bonds)\n",
    "        for alpha in range(3)\n",
    "        for beta in range(3)\n",
    "        if np.abs(Jijalphabeta[bond, alpha, beta]) > 1e-12\n",
    "    ]\n",
    "\n",
    "    # Local field terms\n",
    "    field_terms = [\n",
    "        h[i,alpha] * pauli[alpha](hilbert, i)\n",
    "        for i in range(N)\n",
    "        for alpha in range(3)\n",
    "        if np.abs(h[i,alpha]) > 1e-12\n",
    "    ]\n",
    "\n",
    "    ha = sum(interaction_terms, nk.operator.LocalOperator(hilbert)) + sum(field_terms, nk.operator.LocalOperator(hilbert))\n",
    "    # ha = 0.5*(ha + ha.H)  # Ensure Hermiticity\n",
    "    return ha"
   ]
  },
  {
   "cell_type": "code",
   "execution_count": 46,
   "id": "5a3ab59e",
   "metadata": {},
   "outputs": [
    {
     "data": {
      "text/plain": [
       "(12, 13)"
      ]
     },
     "execution_count": 46,
     "metadata": {},
     "output_type": "execute_result"
    }
   ],
   "source": [
    "g.edges()[1]"
   ]
  },
  {
   "cell_type": "code",
   "execution_count": 48,
   "id": "038ec435",
   "metadata": {},
   "outputs": [
    {
     "data": {
      "text/plain": [
       "(16, 3)"
      ]
     },
     "execution_count": 48,
     "metadata": {},
     "output_type": "execute_result"
    }
   ],
   "source": [
    "h[0].shape"
   ]
  },
  {
   "cell_type": "code",
   "execution_count": 61,
   "id": "e61947b7",
   "metadata": {},
   "outputs": [
    {
     "name": "stdout",
     "output_type": "stream",
     "text": [
      "Exact ground state energy: [-70.88827839]\n"
     ]
    }
   ],
   "source": [
    "# Jij, h = readHamiltonian_params(\"hamiltonian_params.txt\", 0, 5)\n",
    "os.chdir(\"../python\")\n",
    "g = nk.graph.Hypercube(length=4, n_dim=2, pbc=True)\n",
    "Jij,h = parseCouplings.parseCouplings()\n",
    "H = construct_hamiltonian_bonds(Jij[10], h[10],  g.edges())\n",
    "\n",
    "exact_ground_energy,exact_ground_state = nk.exact.lanczos_ed(H, k = 1, compute_eigenvectors = True)\n",
    "print(\"Exact ground state energy:\", exact_ground_energy)"
   ]
  },
  {
   "cell_type": "code",
   "execution_count": 64,
   "id": "d779024c",
   "metadata": {},
   "outputs": [
    {
     "name": "stderr",
     "output_type": "stream",
     "text": [
      "100%|██████████| 100/100 [01:12<00:00,  1.37it/s, Energy=-3.534e+01-2.220e-16j ± 0.000e+00 [σ²=1.933e+02]]\n"
     ]
    }
   ],
   "source": [
    "Jij_hash = hash(Jij.tobytes())\n",
    "h_hash = hash(h.tobytes())\n",
    "\n",
    "params = generate_params(\n",
    "    alpha=10,\n",
    "    seed=1234,\n",
    "    learning_rate=3e-3,\n",
    "    n_iter=100,\n",
    "    show_progress=True,\n",
    "    out=\"data/rbm_optimization_test\",\n",
    "    # Jij_hash=Jij_hash,\n",
    "    # h_hash=h_hash,\n",
    ")\n",
    "\n",
    "out = optimize_rbm(H, params)\n"
   ]
  },
  {
   "cell_type": "code",
   "execution_count": 66,
   "id": "b7a81b0d",
   "metadata": {},
   "outputs": [
    {
     "data": {
      "image/png": "[encoded data removed]",
      "text/plain": [
       "<Figure size 640x480 with 1 Axes>"
      ]
     },
     "metadata": {},
     "output_type": "display_data"
    }
   ],
   "source": [
    "# import the data from log file\n",
    "import matplotlib.pyplot as plt\n",
    "data_rbm = json.load(open(params[\"out\"]+\".log\"))\n",
    "\n",
    "iters_Jastrow = data_rbm[\"Energy\"][\"iters\"]\n",
    "# energy_Jastrow = np.real(data_rbm[\"Energy\"][\"Mean\"])\n",
    "energy_Jastrow = data_rbm[\"Energy\"][\"Mean\"][\"real\"]\n",
    "energy_diff = np.abs(energy_Jastrow - exact_ground_energy[0])\n",
    "\n",
    "fig, ax2 = plt.subplots()\n",
    "ax2.plot(iters_Jastrow, energy_diff, color=\"C1\", label=\"|Energy - Exact|\")\n",
    "ax2.set_yscale(\"log\")\n",
    "ax2.set_ylabel(\"Energy Difference (log scale)\")\n",
    "ax2.set_xlabel(\"Iteration\")\n",
    "ax2.legend()\n",
    "plt.show()\n"
   ]
  },
  {
   "cell_type": "code",
   "execution_count": 6,
   "id": "137e5456",
   "metadata": {},
   "outputs": [],
   "source": [
    "write_output(H, out, params)"
   ]
  },
  {
   "cell_type": "code",
   "execution_count": 67,
   "id": "e1c737dc",
   "metadata": {},
   "outputs": [
    {
     "name": "stdout",
     "output_type": "stream",
     "text": [
      "Exact ground state energy: [-67.59341437]\n",
      "Hamiltonian 1: Exact ground state energy: -67.59341437347759\n"
     ]
    },
    {
     "name": "stderr",
     "output_type": "stream",
     "text": [
      "100%|██████████| 1000/1000 [02:22<00:00,  7.00it/s, Energy=-2.344e+01+3.608e-16j ± 0.000e+00 [σ²=3.075e+02]]\n"
     ]
    },
    {
     "name": "stdout",
     "output_type": "stream",
     "text": [
      "Flipping the sign of the ground state wavefunction to ensure positive overlap.\n",
      "Exact ground state energy: [-64.33123667]\n",
      "Hamiltonian 2: Exact ground state energy: -64.33123666702\n"
     ]
    },
    {
     "name": "stderr",
     "output_type": "stream",
     "text": [
      "100%|██████████| 1000/1000 [02:14<00:00,  7.46it/s, Energy=-5.133e+01-1.110e-16j ± 0.000e+00 [σ²=8.259e+01]]\n"
     ]
    },
    {
     "name": "stdout",
     "output_type": "stream",
     "text": [
      "Exact ground state energy: [-61.29645976]\n",
      "Hamiltonian 3: Exact ground state energy: -61.29645976096796\n"
     ]
    },
    {
     "name": "stderr",
     "output_type": "stream",
     "text": [
      "100%|██████████| 1000/1000 [01:34<00:00, 10.54it/s, Energy=-2.466e+01+2.776e-16j ± 0.000e+00 [σ²=2.045e+02]]\n"
     ]
    },
    {
     "name": "stdout",
     "output_type": "stream",
     "text": [
      "Exact ground state energy: [-69.90451915]\n",
      "Hamiltonian 4: Exact ground state energy: -69.90451915204429\n"
     ]
    },
    {
     "name": "stderr",
     "output_type": "stream",
     "text": [
      "100%|██████████| 1000/1000 [02:23<00:00,  6.99it/s, Energy=-5.099e+01-2.220e-16j ± 0.000e+00 [σ²=1.781e+02]]\n"
     ]
    },
    {
     "name": "stdout",
     "output_type": "stream",
     "text": [
      "Flipping the sign of the ground state wavefunction to ensure positive overlap.\n",
      "Exact ground state energy: [-64.56263725]\n",
      "Hamiltonian 5: Exact ground state energy: -64.56263724850196\n"
     ]
    },
    {
     "name": "stderr",
     "output_type": "stream",
     "text": [
      "100%|██████████| 1000/1000 [00:42<00:00, 23.57it/s, Energy=-5.774e+01-5.441e-16j ± 0.000e+00 [σ²=1.014e+02]]\n"
     ]
    },
    {
     "name": "stdout",
     "output_type": "stream",
     "text": [
      "Flipping the sign of the ground state wavefunction to ensure positive overlap.\n",
      "Exact ground state energy: [-52.96306985]\n",
      "Hamiltonian 6: Exact ground state energy: -52.963069846329546\n"
     ]
    },
    {
     "name": "stderr",
     "output_type": "stream",
     "text": [
      "100%|██████████| 1000/1000 [02:29<00:00,  6.69it/s, Energy=-2.467e+01-1.249e-16j ± 0.000e+00 [σ²=1.566e+02]]\n"
     ]
    },
    {
     "name": "stdout",
     "output_type": "stream",
     "text": [
      "Exact ground state energy: [-76.67122683]\n",
      "Hamiltonian 7: Exact ground state energy: -76.67122682785084\n"
     ]
    },
    {
     "name": "stderr",
     "output_type": "stream",
     "text": [
      "100%|██████████| 1000/1000 [02:42<00:00,  6.17it/s, Energy=-4.962e+01+3.331e-16j ± 0.000e+00 [σ²=4.283e+02]]\n"
     ]
    },
    {
     "name": "stdout",
     "output_type": "stream",
     "text": [
      "Exact ground state energy: [-106.1817312]\n",
      "Hamiltonian 8: Exact ground state energy: -106.1817311988611\n"
     ]
    },
    {
     "name": "stderr",
     "output_type": "stream",
     "text": [
      "100%|██████████| 1000/1000 [02:12<00:00,  7.52it/s, Energy=-4.368e+01-6.661e-16j ± 0.000e+00 [σ²=4.233e+02]]\n"
     ]
    },
    {
     "name": "stdout",
     "output_type": "stream",
     "text": [
      "Exact ground state energy: [-64.12636926]\n",
      "Hamiltonian 9: Exact ground state energy: -64.12636925681241\n"
     ]
    },
    {
     "name": "stderr",
     "output_type": "stream",
     "text": [
      "100%|██████████| 1000/1000 [00:22<00:00, 45.24it/s, Energy=-2.341e+01-1.379e-16j ± 0.000e+00 [σ²=2.616e+02]]\n"
     ]
    },
    {
     "name": "stdout",
     "output_type": "stream",
     "text": [
      "Flipping the sign of the ground state wavefunction to ensure positive overlap.\n",
      "Exact ground state energy: [-72.92181271]\n",
      "Hamiltonian 10: Exact ground state energy: -72.92181271143698\n"
     ]
    },
    {
     "name": "stderr",
     "output_type": "stream",
     "text": [
      "100%|██████████| 1000/1000 [02:20<00:00,  7.11it/s, Energy=-5.773e+01+0.000e+00j ± 0.000e+00 [σ²=2.053e+02]]\n"
     ]
    },
    {
     "name": "stdout",
     "output_type": "stream",
     "text": [
      "Exact ground state energy: [-70.88827839]\n",
      "Hamiltonian 11: Exact ground state energy: -70.88827839195149\n"
     ]
    },
    {
     "name": "stderr",
     "output_type": "stream",
     "text": [
      "100%|██████████| 1000/1000 [02:22<00:00,  7.01it/s, Energy=-3.546e+01-1.110e-16j ± 0.000e+00 [σ²=1.938e+02]]\n"
     ]
    },
    {
     "name": "stdout",
     "output_type": "stream",
     "text": [
      "Flipping the sign of the ground state wavefunction to ensure positive overlap.\n",
      "Exact ground state energy: [-74.73594338]\n",
      "Hamiltonian 12: Exact ground state energy: -74.73594338271873\n"
     ]
    },
    {
     "name": "stderr",
     "output_type": "stream",
     "text": [
      "100%|██████████| 1000/1000 [02:35<00:00,  6.45it/s, Energy=-2.506e+01-1.554e-15j ± 0.000e+00 [σ²=4.428e+02]]\n"
     ]
    },
    {
     "name": "stdout",
     "output_type": "stream",
     "text": [
      "Exact ground state energy: [-69.51353496]\n",
      "Hamiltonian 13: Exact ground state energy: -69.51353495878138\n"
     ]
    },
    {
     "name": "stderr",
     "output_type": "stream",
     "text": [
      "100%|██████████| 1000/1000 [01:21<00:00, 12.25it/s, Energy=-5.216e+01+7.910e-16j ± 0.000e+00 [σ²=2.327e+02]]\n"
     ]
    },
    {
     "name": "stdout",
     "output_type": "stream",
     "text": [
      "Flipping the sign of the ground state wavefunction to ensure positive overlap.\n",
      "Exact ground state energy: [-49.3777212]\n",
      "Hamiltonian 14: Exact ground state energy: -49.377721198444725\n"
     ]
    },
    {
     "name": "stderr",
     "output_type": "stream",
     "text": [
      "100%|██████████| 1000/1000 [02:06<00:00,  7.91it/s, Energy=-3.287e+01-1.249e-16j ± 0.000e+00 [σ²=9.603e+01]]\n"
     ]
    },
    {
     "name": "stdout",
     "output_type": "stream",
     "text": [
      "Flipping the sign of the ground state wavefunction to ensure positive overlap.\n",
      "Exact ground state energy: [-61.39464415]\n",
      "Hamiltonian 15: Exact ground state energy: -61.3946441518944\n"
     ]
    },
    {
     "name": "stderr",
     "output_type": "stream",
     "text": [
      "100%|██████████| 1000/1000 [02:46<00:00,  6.00it/s, Energy=-2.021e+01-1.665e-16j ± 0.000e+00 [σ²=2.931e+02]]\n"
     ]
    },
    {
     "name": "stdout",
     "output_type": "stream",
     "text": [
      "Exact ground state energy: [-84.00756352]\n",
      "Hamiltonian 16: Exact ground state energy: -84.00756351712283\n"
     ]
    },
    {
     "name": "stderr",
     "output_type": "stream",
     "text": [
      "100%|██████████| 1000/1000 [00:52<00:00, 19.17it/s, Energy=-7.610e+01-1.665e-16j ± 0.000e+00 [σ²=1.680e+02]]\n"
     ]
    },
    {
     "name": "stdout",
     "output_type": "stream",
     "text": [
      "Exact ground state energy: [-72.45527383]\n",
      "Hamiltonian 17: Exact ground state energy: -72.4552738346861\n"
     ]
    },
    {
     "name": "stderr",
     "output_type": "stream",
     "text": [
      "100%|██████████| 1000/1000 [01:53<00:00,  8.82it/s, Energy=-4.917e+01-8.882e-16j ± 0.000e+00 [σ²=2.595e+02]]\n"
     ]
    },
    {
     "name": "stdout",
     "output_type": "stream",
     "text": [
      "Exact ground state energy: [-64.97153521]\n",
      "Hamiltonian 18: Exact ground state energy: -64.9715352122894\n"
     ]
    },
    {
     "name": "stderr",
     "output_type": "stream",
     "text": [
      "100%|██████████| 1000/1000 [02:07<00:00,  7.81it/s, Energy=-5.527e+01+2.151e-16j ± 0.000e+00 [σ²=1.367e+02]]\n"
     ]
    },
    {
     "name": "stdout",
     "output_type": "stream",
     "text": [
      "Flipping the sign of the ground state wavefunction to ensure positive overlap.\n",
      "Exact ground state energy: [-59.06400785]\n",
      "Hamiltonian 19: Exact ground state energy: -59.064007845301475\n"
     ]
    },
    {
     "name": "stderr",
     "output_type": "stream",
     "text": [
      "100%|██████████| 1000/1000 [02:21<00:00,  7.06it/s, Energy=-4.406e+01-2.220e-16j ± 0.000e+00 [σ²=1.046e+02]]\n"
     ]
    },
    {
     "name": "stdout",
     "output_type": "stream",
     "text": [
      "Exact ground state energy: [-56.14081774]\n",
      "Hamiltonian 20: Exact ground state energy: -56.140817744547824\n"
     ]
    },
    {
     "name": "stderr",
     "output_type": "stream",
     "text": [
      "100%|██████████| 1000/1000 [00:38<00:00, 25.79it/s, Energy=-4.440e+01+3.574e-16j ± 0.000e+00 [σ²=1.448e+02]]\n"
     ]
    },
    {
     "name": "stdout",
     "output_type": "stream",
     "text": [
      "Flipping the sign of the ground state wavefunction to ensure positive overlap.\n",
      "Exact ground state energy: [-48.89468208]\n",
      "Hamiltonian 21: Exact ground state energy: -48.89468207621433\n"
     ]
    },
    {
     "name": "stderr",
     "output_type": "stream",
     "text": [
      "100%|██████████| 1000/1000 [02:07<00:00,  7.87it/s, Energy=-3.286e+01-4.441e-16j ± 0.000e+00 [σ²=9.938e+01]]\n"
     ]
    },
    {
     "name": "stdout",
     "output_type": "stream",
     "text": [
      "Exact ground state energy: [-69.10263696]\n",
      "Hamiltonian 22: Exact ground state energy: -69.10263696216245\n"
     ]
    },
    {
     "name": "stderr",
     "output_type": "stream",
     "text": [
      "100%|██████████| 1000/1000 [01:04<00:00, 15.56it/s, Energy=-5.346e+01+8.882e-16j ± 0.000e+00 [σ²=1.995e+02]]\n"
     ]
    },
    {
     "name": "stdout",
     "output_type": "stream",
     "text": [
      "Exact ground state energy: [-72.56546717]\n",
      "Hamiltonian 23: Exact ground state energy: -72.56546716913448\n"
     ]
    },
    {
     "name": "stderr",
     "output_type": "stream",
     "text": [
      "100%|██████████| 1000/1000 [01:01<00:00, 16.33it/s, Energy=-2.605e+01-6.661e-16j ± 0.000e+00 [σ²=3.274e+02]]\n"
     ]
    },
    {
     "name": "stdout",
     "output_type": "stream",
     "text": [
      "Flipping the sign of the ground state wavefunction to ensure positive overlap.\n",
      "Exact ground state energy: [-64.74917144]\n",
      "Hamiltonian 24: Exact ground state energy: -64.74917143727579\n"
     ]
    },
    {
     "name": "stderr",
     "output_type": "stream",
     "text": [
      "100%|██████████| 1000/1000 [01:49<00:00,  9.11it/s, Energy=-5.582e+01-1.110e-15j ± 0.000e+00 [σ²=1.012e+02]]\n"
     ]
    },
    {
     "name": "stdout",
     "output_type": "stream",
     "text": [
      "Flipping the sign of the ground state wavefunction to ensure positive overlap.\n",
      "Exact ground state energy: [-53.61616479]\n",
      "Hamiltonian 25: Exact ground state energy: -53.616164787305785\n"
     ]
    },
    {
     "name": "stderr",
     "output_type": "stream",
     "text": [
      "100%|██████████| 1000/1000 [01:56<00:00,  8.55it/s, Energy=-3.351e+01+0.000e+00j ± 0.000e+00 [σ²=1.149e+02]]\n"
     ]
    },
    {
     "name": "stdout",
     "output_type": "stream",
     "text": [
      "Exact ground state energy: [-88.38608829]\n",
      "Hamiltonian 26: Exact ground state energy: -88.3860882903145\n"
     ]
    },
    {
     "name": "stderr",
     "output_type": "stream",
     "text": [
      "100%|██████████| 1000/1000 [01:57<00:00,  8.48it/s, Energy=-4.458e+01-2.220e-16j ± 0.000e+00 [σ²=3.660e+02]]\n"
     ]
    },
    {
     "name": "stdout",
     "output_type": "stream",
     "text": [
      "Flipping the sign of the ground state wavefunction to ensure positive overlap.\n",
      "Exact ground state energy: [-73.19637672]\n",
      "Hamiltonian 27: Exact ground state energy: -73.19637671940342\n"
     ]
    },
    {
     "name": "stderr",
     "output_type": "stream",
     "text": [
      "100%|██████████| 1000/1000 [02:15<00:00,  7.40it/s, Energy=-5.422e+01+0.000e+00j ± 0.000e+00 [σ²=2.313e+02]]\n"
     ]
    },
    {
     "name": "stdout",
     "output_type": "stream",
     "text": [
      "Exact ground state energy: [-60.98731753]\n",
      "Hamiltonian 28: Exact ground state energy: -60.98731752520509\n"
     ]
    },
    {
     "name": "stderr",
     "output_type": "stream",
     "text": [
      "100%|██████████| 1000/1000 [00:59<00:00, 16.70it/s, Energy=-2.897e+01+4.441e-16j ± 0.000e+00 [σ²=2.917e+02]]\n"
     ]
    },
    {
     "name": "stdout",
     "output_type": "stream",
     "text": [
      "Flipping the sign of the ground state wavefunction to ensure positive overlap.\n",
      "Exact ground state energy: [-80.82353775]\n",
      "Hamiltonian 29: Exact ground state energy: -80.82353774572364\n"
     ]
    },
    {
     "name": "stderr",
     "output_type": "stream",
     "text": [
      "100%|██████████| 1000/1000 [02:40<00:00,  6.24it/s, Energy=-4.688e+01+1.110e-16j ± 0.000e+00 [σ²=2.574e+02]]\n"
     ]
    },
    {
     "name": "stdout",
     "output_type": "stream",
     "text": [
      "Exact ground state energy: [-74.80917643]\n",
      "Hamiltonian 30: Exact ground state energy: -74.80917642728687\n"
     ]
    },
    {
     "name": "stderr",
     "output_type": "stream",
     "text": [
      "100%|██████████| 1000/1000 [02:11<00:00,  7.59it/s, Energy=-4.395e+01-3.816e-17j ± 0.000e+00 [σ²=2.388e+02]]\n"
     ]
    },
    {
     "name": "stdout",
     "output_type": "stream",
     "text": [
      "Exact ground state energy: [-48.73183414]\n",
      "Hamiltonian 31: Exact ground state energy: -48.73183414299673\n"
     ]
    },
    {
     "name": "stderr",
     "output_type": "stream",
     "text": [
      "100%|██████████| 1000/1000 [00:37<00:00, 26.81it/s, Energy=-2.509e+01-3.886e-16j ± 0.000e+00 [σ²=1.367e+02]]\n"
     ]
    },
    {
     "name": "stdout",
     "output_type": "stream",
     "text": [
      "Flipping the sign of the ground state wavefunction to ensure positive overlap.\n",
      "Exact ground state energy: [-73.27987719]\n",
      "Hamiltonian 32: Exact ground state energy: -73.27987718864482\n"
     ]
    },
    {
     "name": "stderr",
     "output_type": "stream",
     "text": [
      "100%|██████████| 1000/1000 [02:15<00:00,  7.36it/s, Energy=-5.815e+01+0.000e+00j ± 0.000e+00 [σ²=1.317e+02]]\n"
     ]
    },
    {
     "name": "stdout",
     "output_type": "stream",
     "text": [
      "Flipping the sign of the ground state wavefunction to ensure positive overlap.\n",
      "Exact ground state energy: [-59.5819697]\n",
      "Hamiltonian 33: Exact ground state energy: -59.58196969815552\n"
     ]
    },
    {
     "name": "stderr",
     "output_type": "stream",
     "text": [
      "100%|██████████| 1000/1000 [02:15<00:00,  7.36it/s, Energy=-1.492e+01-3.331e-16j ± 0.000e+00 [σ²=1.041e+02]]\n"
     ]
    },
    {
     "name": "stdout",
     "output_type": "stream",
     "text": [
      "Exact ground state energy: [-88.36840876]\n",
      "Hamiltonian 34: Exact ground state energy: -88.36840876049246\n"
     ]
    },
    {
     "name": "stderr",
     "output_type": "stream",
     "text": [
      "100%|██████████| 1000/1000 [01:53<00:00,  8.81it/s, Energy=-3.585e+01-1.804e-16j ± 0.000e+00 [σ²=2.977e+02]]\n"
     ]
    },
    {
     "name": "stdout",
     "output_type": "stream",
     "text": [
      "Flipping the sign of the ground state wavefunction to ensure positive overlap.\n",
      "Exact ground state energy: [-51.02376325]\n",
      "Hamiltonian 35: Exact ground state energy: -51.02376324645878\n"
     ]
    },
    {
     "name": "stderr",
     "output_type": "stream",
     "text": [
      "100%|██████████| 1000/1000 [02:05<00:00,  7.99it/s, Energy=-2.703e+01+7.216e-16j ± 0.000e+00 [σ²=1.843e+02]]\n"
     ]
    },
    {
     "name": "stdout",
     "output_type": "stream",
     "text": [
      "Exact ground state energy: [-69.3392425]\n",
      "Hamiltonian 36: Exact ground state energy: -69.33924249532336\n"
     ]
    },
    {
     "name": "stderr",
     "output_type": "stream",
     "text": [
      "100%|██████████| 1000/1000 [01:58<00:00,  8.44it/s, Energy=-4.528e+01+0.000e+00j ± 0.000e+00 [σ²=1.883e+02]]\n"
     ]
    },
    {
     "name": "stdout",
     "output_type": "stream",
     "text": [
      "Flipping the sign of the ground state wavefunction to ensure positive overlap.\n",
      "Exact ground state energy: [-84.82409876]\n",
      "Hamiltonian 37: Exact ground state energy: -84.82409876335986\n"
     ]
    },
    {
     "name": "stderr",
     "output_type": "stream",
     "text": [
      "100%|██████████| 1000/1000 [00:58<00:00, 17.23it/s, Energy=-3.695e+01-3.696e-16j ± 0.000e+00 [σ²=6.639e+02]]\n"
     ]
    },
    {
     "name": "stdout",
     "output_type": "stream",
     "text": [
      "Flipping the sign of the ground state wavefunction to ensure positive overlap.\n",
      "Exact ground state energy: [-84.47249351]\n",
      "Hamiltonian 38: Exact ground state energy: -84.47249350535179\n"
     ]
    },
    {
     "name": "stderr",
     "output_type": "stream",
     "text": [
      "100%|██████████| 1000/1000 [01:56<00:00,  8.58it/s, Energy=-2.527e+01+4.441e-16j ± 0.000e+00 [σ²=5.677e+02]]\n"
     ]
    },
    {
     "name": "stdout",
     "output_type": "stream",
     "text": [
      "Flipping the sign of the ground state wavefunction to ensure positive overlap.\n",
      "Exact ground state energy: [-95.51861102]\n",
      "Hamiltonian 39: Exact ground state energy: -95.5186110231582\n"
     ]
    },
    {
     "name": "stderr",
     "output_type": "stream",
     "text": [
      "100%|██████████| 1000/1000 [00:38<00:00, 26.04it/s, Energy=-8.564e+01-5.551e-17j ± 0.000e+00 [σ²=1.843e+02]]\n"
     ]
    },
    {
     "name": "stdout",
     "output_type": "stream",
     "text": [
      "Flipping the sign of the ground state wavefunction to ensure positive overlap.\n",
      "Exact ground state energy: [-69.40566972]\n",
      "Hamiltonian 40: Exact ground state energy: -69.40566972271812\n"
     ]
    },
    {
     "name": "stderr",
     "output_type": "stream",
     "text": [
      "100%|██████████| 1000/1000 [01:06<00:00, 15.06it/s, Energy=-4.310e+01+2.220e-16j ± 0.000e+00 [σ²=1.314e+02]]\n"
     ]
    },
    {
     "name": "stdout",
     "output_type": "stream",
     "text": [
      "Flipping the sign of the ground state wavefunction to ensure positive overlap.\n",
      "Exact ground state energy: [-92.81279549]\n",
      "Hamiltonian 41: Exact ground state energy: -92.81279548505103\n"
     ]
    },
    {
     "name": "stderr",
     "output_type": "stream",
     "text": [
      "100%|██████████| 1000/1000 [02:01<00:00,  8.23it/s, Energy=-8.024e+01-6.384e-16j ± 0.000e+00 [σ²=2.971e+02]]\n"
     ]
    },
    {
     "name": "stdout",
     "output_type": "stream",
     "text": [
      "Flipping the sign of the ground state wavefunction to ensure positive overlap.\n",
      "Exact ground state energy: [-82.26556696]\n",
      "Hamiltonian 42: Exact ground state energy: -82.2655669629323\n"
     ]
    },
    {
     "name": "stderr",
     "output_type": "stream",
     "text": [
      "100%|██████████| 1000/1000 [02:09<00:00,  7.72it/s, Energy=-3.668e+01+0.000e+00j ± 0.000e+00 [σ²=4.919e+02]]\n"
     ]
    },
    {
     "name": "stdout",
     "output_type": "stream",
     "text": [
      "Exact ground state energy: [-100.25935828]\n",
      "Hamiltonian 43: Exact ground state energy: -100.25935827944521\n"
     ]
    },
    {
     "name": "stderr",
     "output_type": "stream",
     "text": [
      "100%|██████████| 1000/1000 [02:38<00:00,  6.30it/s, Energy=-4.603e+01+1.110e-16j ± 0.000e+00 [σ²=5.828e+02]]\n"
     ]
    },
    {
     "name": "stdout",
     "output_type": "stream",
     "text": [
      "Exact ground state energy: [-87.78824874]\n",
      "Hamiltonian 44: Exact ground state energy: -87.78824873529497\n"
     ]
    },
    {
     "name": "stderr",
     "output_type": "stream",
     "text": [
      "100%|██████████| 1000/1000 [01:24<00:00, 11.87it/s, Energy=-4.649e+01-1.388e-17j ± 0.000e+00 [σ²=2.903e+02]]\n"
     ]
    },
    {
     "name": "stdout",
     "output_type": "stream",
     "text": [
      "Exact ground state energy: [-65.22211615]\n",
      "Hamiltonian 45: Exact ground state energy: -65.22211615191877\n"
     ]
    },
    {
     "name": "stderr",
     "output_type": "stream",
     "text": [
      "100%|██████████| 1000/1000 [02:21<00:00,  7.07it/s, Energy=-5.281e+01-1.804e-16j ± 0.000e+00 [σ²=1.246e+02]]\n"
     ]
    },
    {
     "name": "stdout",
     "output_type": "stream",
     "text": [
      "Flipping the sign of the ground state wavefunction to ensure positive overlap.\n",
      "Exact ground state energy: [-79.48442071]\n",
      "Hamiltonian 46: Exact ground state energy: -79.48442070618587\n"
     ]
    },
    {
     "name": "stderr",
     "output_type": "stream",
     "text": [
      "100%|██████████| 1000/1000 [00:32<00:00, 31.14it/s, Energy=-3.072e+01+6.318e-16j ± 0.000e+00 [σ²=6.488e+02]]\n"
     ]
    },
    {
     "name": "stdout",
     "output_type": "stream",
     "text": [
      "Exact ground state energy: [-76.92675352]\n",
      "Hamiltonian 47: Exact ground state energy: -76.92675351606889\n"
     ]
    },
    {
     "name": "stderr",
     "output_type": "stream",
     "text": [
      "100%|██████████| 1000/1000 [02:00<00:00,  8.28it/s, Energy=-3.179e+01+9.645e-16j ± 0.000e+00 [σ²=2.405e+02]]\n"
     ]
    },
    {
     "name": "stdout",
     "output_type": "stream",
     "text": [
      "Exact ground state energy: [-74.60752062]\n",
      "Hamiltonian 48: Exact ground state energy: -74.607520623527\n"
     ]
    },
    {
     "name": "stderr",
     "output_type": "stream",
     "text": [
      "100%|██████████| 1000/1000 [01:54<00:00,  8.77it/s, Energy=-5.474e+01+0.000e+00j ± 0.000e+00 [σ²=2.936e+02]]\n"
     ]
    },
    {
     "name": "stdout",
     "output_type": "stream",
     "text": [
      "Exact ground state energy: [-46.66770891]\n",
      "Hamiltonian 49: Exact ground state energy: -46.66770890970638\n"
     ]
    },
    {
     "name": "stderr",
     "output_type": "stream",
     "text": [
      "100%|██████████| 1000/1000 [01:49<00:00,  9.13it/s, Energy=-2.711e+01+0.000e+00j ± 0.000e+00 [σ²=1.033e+02]]\n"
     ]
    },
    {
     "name": "stdout",
     "output_type": "stream",
     "text": [
      "Flipping the sign of the ground state wavefunction to ensure positive overlap.\n",
      "Exact ground state energy: [-99.30814189]\n",
      "Hamiltonian 50: Exact ground state energy: -99.30814189264156\n"
     ]
    },
    {
     "name": "stderr",
     "output_type": "stream",
     "text": [
      "100%|██████████| 1000/1000 [00:50<00:00, 19.84it/s, Energy=-6.252e+01-7.823e-16j ± 0.000e+00 [σ²=3.918e+02]]\n"
     ]
    },
    {
     "name": "stdout",
     "output_type": "stream",
     "text": [
      "Exact ground state energy: [-60.78372849]\n",
      "Hamiltonian 51: Exact ground state energy: -60.783728492944434\n"
     ]
    },
    {
     "name": "stderr",
     "output_type": "stream",
     "text": [
      "100%|██████████| 1000/1000 [01:42<00:00,  9.75it/s, Energy=-3.919e+01+1.804e-16j ± 0.000e+00 [σ²=8.255e+01]]\n"
     ]
    },
    {
     "name": "stdout",
     "output_type": "stream",
     "text": [
      "Flipping the sign of the ground state wavefunction to ensure positive overlap.\n",
      "Exact ground state energy: [-66.3039029]\n",
      "Hamiltonian 52: Exact ground state energy: -66.30390290359196\n"
     ]
    },
    {
     "name": "stderr",
     "output_type": "stream",
     "text": [
      "100%|██████████| 1000/1000 [00:26<00:00, 37.79it/s, Energy=-4.490e+01+1.037e-17j ± 0.000e+00 [σ²=2.440e+02]]\n"
     ]
    },
    {
     "name": "stdout",
     "output_type": "stream",
     "text": [
      "Exact ground state energy: [-73.15046642]\n",
      "Hamiltonian 53: Exact ground state energy: -73.15046641819502\n"
     ]
    },
    {
     "name": "stderr",
     "output_type": "stream",
     "text": [
      "100%|██████████| 1000/1000 [02:50<00:00,  5.87it/s, Energy=-5.261e+01+5.551e-17j ± 0.000e+00 [σ²=1.716e+02]]\n"
     ]
    },
    {
     "name": "stdout",
     "output_type": "stream",
     "text": [
      "Exact ground state energy: [-51.97039901]\n",
      "Hamiltonian 54: Exact ground state energy: -51.97039900708992\n"
     ]
    },
    {
     "name": "stderr",
     "output_type": "stream",
     "text": [
      "100%|██████████| 1000/1000 [01:21<00:00, 12.29it/s, Energy=-3.740e+01+2.776e-17j ± 0.000e+00 [σ²=9.495e+01]]\n"
     ]
    },
    {
     "name": "stdout",
     "output_type": "stream",
     "text": [
      "Flipping the sign of the ground state wavefunction to ensure positive overlap.\n",
      "Exact ground state energy: [-80.04489266]\n",
      "Hamiltonian 55: Exact ground state energy: -80.04489265811026\n"
     ]
    },
    {
     "name": "stderr",
     "output_type": "stream",
     "text": [
      "100%|██████████| 1000/1000 [02:01<00:00,  8.22it/s, Energy=-3.360e+01+1.056e-16j ± 0.000e+00 [σ²=3.179e+02]]\n"
     ]
    },
    {
     "name": "stdout",
     "output_type": "stream",
     "text": [
      "Exact ground state energy: [-64.25070642]\n",
      "Hamiltonian 56: Exact ground state energy: -64.2507064221173\n"
     ]
    },
    {
     "name": "stderr",
     "output_type": "stream",
     "text": [
      "100%|██████████| 1000/1000 [02:28<00:00,  6.75it/s, Energy=-3.882e+01+0.000e+00j ± 0.000e+00 [σ²=2.911e+02]]\n"
     ]
    },
    {
     "name": "stdout",
     "output_type": "stream",
     "text": [
      "Flipping the sign of the ground state wavefunction to ensure positive overlap.\n",
      "Exact ground state energy: [-51.8435643]\n",
      "Hamiltonian 57: Exact ground state energy: -51.84356429546396\n"
     ]
    },
    {
     "name": "stderr",
     "output_type": "stream",
     "text": [
      "100%|██████████| 1000/1000 [00:54<00:00, 18.24it/s, Energy=-4.294e+01-1.592e-16j ± 0.000e+00 [σ²=1.163e+02]]\n"
     ]
    },
    {
     "name": "stdout",
     "output_type": "stream",
     "text": [
      "Flipping the sign of the ground state wavefunction to ensure positive overlap.\n",
      "Exact ground state energy: [-78.83551705]\n",
      "Hamiltonian 58: Exact ground state energy: -78.8355170531932\n"
     ]
    },
    {
     "name": "stderr",
     "output_type": "stream",
     "text": [
      "100%|██████████| 1000/1000 [02:25<00:00,  6.85it/s, Energy=-4.228e+01-2.220e-16j ± 0.000e+00 [σ²=2.131e+02]]\n"
     ]
    },
    {
     "name": "stdout",
     "output_type": "stream",
     "text": [
      "Flipping the sign of the ground state wavefunction to ensure positive overlap.\n",
      "Exact ground state energy: [-59.17607424]\n",
      "Hamiltonian 59: Exact ground state energy: -59.17607424188121\n"
     ]
    },
    {
     "name": "stderr",
     "output_type": "stream",
     "text": [
      "100%|██████████| 1000/1000 [01:49<00:00,  9.15it/s, Energy=-4.404e+01-7.772e-16j ± 0.000e+00 [σ²=1.229e+02]]\n"
     ]
    },
    {
     "name": "stdout",
     "output_type": "stream",
     "text": [
      "Flipping the sign of the ground state wavefunction to ensure positive overlap.\n",
      "Exact ground state energy: [-66.3217223]\n",
      "Hamiltonian 60: Exact ground state energy: -66.3217223038416\n"
     ]
    },
    {
     "name": "stderr",
     "output_type": "stream",
     "text": [
      "100%|██████████| 1000/1000 [00:24<00:00, 40.03it/s, Energy=-3.594e+01+2.106e-17j ± 0.000e+00 [σ²=2.700e+02]]\n"
     ]
    },
    {
     "name": "stdout",
     "output_type": "stream",
     "text": [
      "Flipping the sign of the ground state wavefunction to ensure positive overlap.\n",
      "Exact ground state energy: [-66.65899944]\n",
      "Hamiltonian 61: Exact ground state energy: -66.65899944265136\n"
     ]
    },
    {
     "name": "stderr",
     "output_type": "stream",
     "text": [
      "100%|██████████| 1000/1000 [01:52<00:00,  8.91it/s, Energy=-2.113e+01+1.110e-16j ± 0.000e+00 [σ²=1.116e+02]]\n"
     ]
    },
    {
     "name": "stdout",
     "output_type": "stream",
     "text": [
      "Exact ground state energy: [-67.84930105]\n",
      "Hamiltonian 62: Exact ground state energy: -67.8493010530894\n"
     ]
    },
    {
     "name": "stderr",
     "output_type": "stream",
     "text": [
      "100%|██████████| 1000/1000 [00:29<00:00, 34.07it/s, Energy=-3.496e+01-3.331e-16j ± 0.000e+00 [σ²=3.932e+02]]\n"
     ]
    },
    {
     "name": "stdout",
     "output_type": "stream",
     "text": [
      "Exact ground state energy: [-68.18535593]\n",
      "Hamiltonian 63: Exact ground state energy: -68.18535592894385\n"
     ]
    },
    {
     "name": "stderr",
     "output_type": "stream",
     "text": [
      "100%|██████████| 1000/1000 [02:34<00:00,  6.49it/s, Energy=-5.578e+01+1.110e-16j ± 0.000e+00 [σ²=1.359e+02]]\n"
     ]
    },
    {
     "name": "stdout",
     "output_type": "stream",
     "text": [
      "Flipping the sign of the ground state wavefunction to ensure positive overlap.\n",
      "Exact ground state energy: [-79.81873721]\n",
      "Hamiltonian 64: Exact ground state energy: -79.81873721483647\n"
     ]
    },
    {
     "name": "stderr",
     "output_type": "stream",
     "text": [
      "100%|██████████| 1000/1000 [02:22<00:00,  7.02it/s, Energy=-5.380e+01-5.551e-16j ± 0.000e+00 [σ²=2.462e+02]]\n"
     ]
    },
    {
     "name": "stdout",
     "output_type": "stream",
     "text": [
      "Flipping the sign of the ground state wavefunction to ensure positive overlap.\n",
      "Exact ground state energy: [-79.7773664]\n",
      "Hamiltonian 65: Exact ground state energy: -79.77736640425451\n"
     ]
    },
    {
     "name": "stderr",
     "output_type": "stream",
     "text": [
      "100%|██████████| 1000/1000 [00:27<00:00, 35.86it/s, Energy=-6.538e+01-7.789e-18j ± 0.000e+00 [σ²=2.240e+02]]\n"
     ]
    },
    {
     "name": "stdout",
     "output_type": "stream",
     "text": [
      "Flipping the sign of the ground state wavefunction to ensure positive overlap.\n",
      "Exact ground state energy: [-68.63500123]\n",
      "Hamiltonian 66: Exact ground state energy: -68.63500123075255\n"
     ]
    },
    {
     "name": "stderr",
     "output_type": "stream",
     "text": [
      "100%|██████████| 1000/1000 [02:53<00:00,  5.76it/s, Energy=-3.472e+01-9.992e-16j ± 0.000e+00 [σ²=2.638e+02]]\n"
     ]
    },
    {
     "name": "stdout",
     "output_type": "stream",
     "text": [
      "Exact ground state energy: [-66.57574859]\n",
      "Hamiltonian 67: Exact ground state energy: -66.57574858880072\n"
     ]
    },
    {
     "name": "stderr",
     "output_type": "stream",
     "text": [
      "100%|██████████| 1000/1000 [00:24<00:00, 41.41it/s, Energy=-3.287e+01+1.802e-16j ± 0.000e+00 [σ²=3.924e+02]]\n"
     ]
    },
    {
     "name": "stdout",
     "output_type": "stream",
     "text": [
      "Flipping the sign of the ground state wavefunction to ensure positive overlap.\n",
      "Exact ground state energy: [-73.21925389]\n",
      "Hamiltonian 68: Exact ground state energy: -73.21925388884752\n"
     ]
    },
    {
     "name": "stderr",
     "output_type": "stream",
     "text": [
      "100%|██████████| 1000/1000 [01:24<00:00, 11.79it/s, Energy=-4.887e+01-2.047e-16j ± 0.000e+00 [σ²=2.618e+02]]\n"
     ]
    },
    {
     "name": "stdout",
     "output_type": "stream",
     "text": [
      "Exact ground state energy: [-68.55198087]\n",
      "Hamiltonian 69: Exact ground state energy: -68.55198087334834\n"
     ]
    },
    {
     "name": "stderr",
     "output_type": "stream",
     "text": [
      "100%|██████████| 1000/1000 [00:51<00:00, 19.33it/s, Energy=-3.019e+01+7.772e-16j ± 0.000e+00 [σ²=4.053e+02]]\n"
     ]
    },
    {
     "name": "stdout",
     "output_type": "stream",
     "text": [
      "Flipping the sign of the ground state wavefunction to ensure positive overlap.\n",
      "Exact ground state energy: [-86.68639555]\n",
      "Hamiltonian 70: Exact ground state energy: -86.68639554943984\n"
     ]
    },
    {
     "name": "stderr",
     "output_type": "stream",
     "text": [
      "100%|██████████| 1000/1000 [01:35<00:00, 10.42it/s, Energy=-5.909e+01+2.220e-16j ± 0.000e+00 [σ²=3.822e+02]]\n"
     ]
    },
    {
     "name": "stdout",
     "output_type": "stream",
     "text": [
      "Flipping the sign of the ground state wavefunction to ensure positive overlap.\n",
      "Exact ground state energy: [-74.86587126]\n",
      "Hamiltonian 71: Exact ground state energy: -74.86587125712784\n"
     ]
    },
    {
     "name": "stderr",
     "output_type": "stream",
     "text": [
      "100%|██████████| 1000/1000 [02:40<00:00,  6.23it/s, Energy=-4.242e+01-5.551e-16j ± 0.000e+00 [σ²=4.000e+02]]\n"
     ]
    },
    {
     "name": "stdout",
     "output_type": "stream",
     "text": [
      "Exact ground state energy: [-56.2747276]\n",
      "Hamiltonian 72: Exact ground state energy: -56.27472760137311\n"
     ]
    },
    {
     "name": "stderr",
     "output_type": "stream",
     "text": [
      "100%|██████████| 1000/1000 [02:05<00:00,  7.97it/s, Energy=-3.569e+01-3.678e-16j ± 0.000e+00 [σ²=1.125e+02]]\n"
     ]
    },
    {
     "name": "stdout",
     "output_type": "stream",
     "text": [
      "Flipping the sign of the ground state wavefunction to ensure positive overlap.\n",
      "Exact ground state energy: [-89.69472608]\n",
      "Hamiltonian 73: Exact ground state energy: -89.69472607780854\n"
     ]
    },
    {
     "name": "stderr",
     "output_type": "stream",
     "text": [
      "100%|██████████| 1000/1000 [01:04<00:00, 15.55it/s, Energy=-3.985e+01-1.267e-15j ± 0.000e+00 [σ²=4.693e+02]]\n"
     ]
    },
    {
     "name": "stdout",
     "output_type": "stream",
     "text": [
      "Flipping the sign of the ground state wavefunction to ensure positive overlap.\n",
      "Exact ground state energy: [-96.1431491]\n",
      "Hamiltonian 74: Exact ground state energy: -96.14314910462846\n"
     ]
    },
    {
     "name": "stderr",
     "output_type": "stream",
     "text": [
      "100%|██████████| 1000/1000 [00:48<00:00, 20.41it/s, Energy=-5.552e+01-4.718e-16j ± 0.000e+00 [σ²=2.413e+02]]\n"
     ]
    },
    {
     "name": "stdout",
     "output_type": "stream",
     "text": [
      "Exact ground state energy: [-80.69066712]\n",
      "Hamiltonian 75: Exact ground state energy: -80.69066711640804\n"
     ]
    },
    {
     "name": "stderr",
     "output_type": "stream",
     "text": [
      "100%|██████████| 1000/1000 [02:35<00:00,  6.43it/s, Energy=-2.958e+01+6.661e-16j ± 0.000e+00 [σ²=4.181e+02]]\n"
     ]
    },
    {
     "name": "stdout",
     "output_type": "stream",
     "text": [
      "Exact ground state energy: [-65.07263454]\n",
      "Hamiltonian 76: Exact ground state energy: -65.07263453736955\n"
     ]
    },
    {
     "name": "stderr",
     "output_type": "stream",
     "text": [
      "100%|██████████| 1000/1000 [02:46<00:00,  6.00it/s, Energy=-3.566e+01+5.551e-17j ± 0.000e+00 [σ²=6.370e+01]]\n"
     ]
    },
    {
     "name": "stdout",
     "output_type": "stream",
     "text": [
      "Flipping the sign of the ground state wavefunction to ensure positive overlap.\n",
      "Exact ground state energy: [-56.40857336]\n",
      "Hamiltonian 77: Exact ground state energy: -56.40857336025716\n"
     ]
    },
    {
     "name": "stderr",
     "output_type": "stream",
     "text": [
      "100%|██████████| 1000/1000 [02:03<00:00,  8.07it/s, Energy=-4.973e+01-1.110e-16j ± 0.000e+00 [σ²=4.909e+01]]\n"
     ]
    },
    {
     "name": "stdout",
     "output_type": "stream",
     "text": [
      "Flipping the sign of the ground state wavefunction to ensure positive overlap.\n",
      "Exact ground state energy: [-67.48106633]\n",
      "Hamiltonian 78: Exact ground state energy: -67.48106633042147\n"
     ]
    },
    {
     "name": "stderr",
     "output_type": "stream",
     "text": [
      "100%|██████████| 1000/1000 [01:52<00:00,  8.89it/s, Energy=-3.584e+01+6.661e-16j ± 0.000e+00 [σ²=3.820e+02]]\n"
     ]
    },
    {
     "name": "stdout",
     "output_type": "stream",
     "text": [
      "Flipping the sign of the ground state wavefunction to ensure positive overlap.\n",
      "Exact ground state energy: [-52.80481463]\n",
      "Hamiltonian 79: Exact ground state energy: -52.804814634271345\n"
     ]
    },
    {
     "name": "stderr",
     "output_type": "stream",
     "text": [
      "100%|██████████| 1000/1000 [01:37<00:00, 10.30it/s, Energy=-3.287e+01-4.441e-16j ± 0.000e+00 [σ²=1.436e+02]]\n"
     ]
    },
    {
     "name": "stdout",
     "output_type": "stream",
     "text": [
      "Exact ground state energy: [-67.95803981]\n",
      "Hamiltonian 80: Exact ground state energy: -67.9580398137752\n"
     ]
    },
    {
     "name": "stderr",
     "output_type": "stream",
     "text": [
      "100%|██████████| 1000/1000 [01:20<00:00, 12.37it/s, Energy=-6.433e+01-5.551e-17j ± 0.000e+00 [σ²=5.362e+01]]\n"
     ]
    },
    {
     "name": "stdout",
     "output_type": "stream",
     "text": [
      "Exact ground state energy: [-74.24553577]\n",
      "Hamiltonian 81: Exact ground state energy: -74.24553576941705\n"
     ]
    },
    {
     "name": "stderr",
     "output_type": "stream",
     "text": [
      "100%|██████████| 1000/1000 [01:14<00:00, 13.46it/s, Energy=-3.118e+01-7.216e-16j ± 0.000e+00 [σ²=2.457e+02]]\n"
     ]
    },
    {
     "name": "stdout",
     "output_type": "stream",
     "text": [
      "Exact ground state energy: [-83.12981082]\n",
      "Hamiltonian 82: Exact ground state energy: -83.12981081807948\n"
     ]
    },
    {
     "name": "stderr",
     "output_type": "stream",
     "text": [
      "100%|██████████| 1000/1000 [00:18<00:00, 55.28it/s, Energy=-6.379e+01-5.506e-21j ± 0.000e+00 [σ²=3.918e+02]]\n"
     ]
    },
    {
     "name": "stdout",
     "output_type": "stream",
     "text": [
      "Flipping the sign of the ground state wavefunction to ensure positive overlap.\n",
      "Exact ground state energy: [-55.65493217]\n",
      "Hamiltonian 83: Exact ground state energy: -55.65493217155154\n"
     ]
    },
    {
     "name": "stderr",
     "output_type": "stream",
     "text": [
      "100%|██████████| 1000/1000 [02:02<00:00,  8.17it/s, Energy=-2.457e+01-2.776e-17j ± 0.000e+00 [σ²=1.527e+02]]\n"
     ]
    },
    {
     "name": "stdout",
     "output_type": "stream",
     "text": [
      "Flipping the sign of the ground state wavefunction to ensure positive overlap.\n",
      "Exact ground state energy: [-60.97400755]\n",
      "Hamiltonian 84: Exact ground state energy: -60.9740075471512\n"
     ]
    },
    {
     "name": "stderr",
     "output_type": "stream",
     "text": [
      "100%|██████████| 1000/1000 [02:45<00:00,  6.03it/s, Energy=-4.721e+01-3.053e-16j ± 0.000e+00 [σ²=9.300e+01]]\n"
     ]
    },
    {
     "name": "stdout",
     "output_type": "stream",
     "text": [
      "Flipping the sign of the ground state wavefunction to ensure positive overlap.\n",
      "Exact ground state energy: [-59.13787456]\n",
      "Hamiltonian 85: Exact ground state energy: -59.13787456145569\n"
     ]
    },
    {
     "name": "stderr",
     "output_type": "stream",
     "text": [
      "100%|██████████| 1000/1000 [01:14<00:00, 13.44it/s, Energy=-3.243e+01+3.365e-16j ± 0.000e+00 [σ²=2.109e+02]]\n"
     ]
    },
    {
     "name": "stdout",
     "output_type": "stream",
     "text": [
      "Exact ground state energy: [-58.16661136]\n",
      "Hamiltonian 86: Exact ground state energy: -58.16661135950978\n"
     ]
    },
    {
     "name": "stderr",
     "output_type": "stream",
     "text": [
      "100%|██████████| 1000/1000 [01:25<00:00, 11.75it/s, Energy=-3.749e+01+7.772e-16j ± 0.000e+00 [σ²=1.696e+02]]\n"
     ]
    },
    {
     "name": "stdout",
     "output_type": "stream",
     "text": [
      "Exact ground state energy: [-62.54733423]\n",
      "Hamiltonian 87: Exact ground state energy: -62.547334227184194\n"
     ]
    },
    {
     "name": "stderr",
     "output_type": "stream",
     "text": [
      "100%|██████████| 1000/1000 [00:32<00:00, 30.51it/s, Energy=-2.911e+01-4.495e-16j ± 0.000e+00 [σ²=2.076e+02]]\n"
     ]
    },
    {
     "name": "stdout",
     "output_type": "stream",
     "text": [
      "Exact ground state energy: [-64.27204996]\n",
      "Hamiltonian 88: Exact ground state energy: -64.27204996397357\n"
     ]
    },
    {
     "name": "stderr",
     "output_type": "stream",
     "text": [
      "100%|██████████| 1000/1000 [01:53<00:00,  8.83it/s, Energy=-3.039e+01+7.272e-17j ± 0.000e+00 [σ²=2.365e+02]]\n"
     ]
    },
    {
     "name": "stdout",
     "output_type": "stream",
     "text": [
      "Exact ground state energy: [-55.4791037]\n",
      "Hamiltonian 89: Exact ground state energy: -55.4791036985831\n"
     ]
    },
    {
     "name": "stderr",
     "output_type": "stream",
     "text": [
      "100%|██████████| 1000/1000 [00:43<00:00, 23.03it/s, Energy=-2.526e+01+1.388e-16j ± 0.000e+00 [σ²=2.009e+02]]\n"
     ]
    },
    {
     "name": "stdout",
     "output_type": "stream",
     "text": [
      "Exact ground state energy: [-55.79346315]\n",
      "Hamiltonian 90: Exact ground state energy: -55.79346315275582\n"
     ]
    },
    {
     "name": "stderr",
     "output_type": "stream",
     "text": [
      "100%|██████████| 1000/1000 [00:55<00:00, 17.86it/s, Energy=-1.611e+01+9.671e-16j ± 0.000e+00 [σ²=2.710e+02]]\n"
     ]
    },
    {
     "name": "stdout",
     "output_type": "stream",
     "text": [
      "Flipping the sign of the ground state wavefunction to ensure positive overlap.\n",
      "Exact ground state energy: [-101.97305465]\n",
      "Hamiltonian 91: Exact ground state energy: -101.97305464802545\n"
     ]
    },
    {
     "name": "stderr",
     "output_type": "stream",
     "text": [
      "100%|██████████| 1000/1000 [01:02<00:00, 16.03it/s, Energy=-7.039e+01+3.442e-15j ± 0.000e+00 [σ²=4.003e+02]]\n"
     ]
    },
    {
     "name": "stdout",
     "output_type": "stream",
     "text": [
      "Flipping the sign of the ground state wavefunction to ensure positive overlap.\n",
      "Exact ground state energy: [-50.68179085]\n",
      "Hamiltonian 92: Exact ground state energy: -50.681790849582356\n"
     ]
    },
    {
     "name": "stderr",
     "output_type": "stream",
     "text": [
      "100%|██████████| 1000/1000 [02:48<00:00,  5.94it/s, Energy=-2.443e+01+0.000e+00j ± 0.000e+00 [σ²=1.832e+02]]\n"
     ]
    },
    {
     "name": "stdout",
     "output_type": "stream",
     "text": [
      "Flipping the sign of the ground state wavefunction to ensure positive overlap.\n",
      "Exact ground state energy: [-70.49392019]\n",
      "Hamiltonian 93: Exact ground state energy: -70.49392019137967\n"
     ]
    },
    {
     "name": "stderr",
     "output_type": "stream",
     "text": [
      "100%|██████████| 1000/1000 [02:02<00:00,  8.16it/s, Energy=-5.721e+01+0.000e+00j ± 0.000e+00 [σ²=1.477e+02]]\n"
     ]
    },
    {
     "name": "stdout",
     "output_type": "stream",
     "text": [
      "Flipping the sign of the ground state wavefunction to ensure positive overlap.\n",
      "Exact ground state energy: [-55.29227142]\n",
      "Hamiltonian 94: Exact ground state energy: -55.29227141673861\n"
     ]
    },
    {
     "name": "stderr",
     "output_type": "stream",
     "text": [
      "100%|██████████| 1000/1000 [02:24<00:00,  6.93it/s, Energy=-3.814e+01+5.551e-17j ± 0.000e+00 [σ²=1.031e+02]]\n"
     ]
    },
    {
     "name": "stdout",
     "output_type": "stream",
     "text": [
      "Exact ground state energy: [-68.41403489]\n",
      "Hamiltonian 95: Exact ground state energy: -68.41403489240456\n"
     ]
    },
    {
     "name": "stderr",
     "output_type": "stream",
     "text": [
      "100%|██████████| 1000/1000 [02:06<00:00,  7.91it/s, Energy=-5.543e+01+0.000e+00j ± 0.000e+00 [σ²=1.263e+02]]\n"
     ]
    },
    {
     "name": "stdout",
     "output_type": "stream",
     "text": [
      "Exact ground state energy: [-53.48051699]\n",
      "Hamiltonian 96: Exact ground state energy: -53.480516986431404\n"
     ]
    },
    {
     "name": "stderr",
     "output_type": "stream",
     "text": [
      "100%|██████████| 1000/1000 [02:07<00:00,  7.83it/s, Energy=-3.988e+01-3.886e-16j ± 0.000e+00 [σ²=1.350e+02]]\n"
     ]
    },
    {
     "name": "stdout",
     "output_type": "stream",
     "text": [
      "Flipping the sign of the ground state wavefunction to ensure positive overlap.\n",
      "Exact ground state energy: [-63.31270563]\n",
      "Hamiltonian 97: Exact ground state energy: -63.31270562546298\n"
     ]
    },
    {
     "name": "stderr",
     "output_type": "stream",
     "text": [
      "100%|██████████| 1000/1000 [01:11<00:00, 13.97it/s, Energy=-2.724e+01-1.665e-16j ± 0.000e+00 [σ²=3.698e+02]]\n"
     ]
    },
    {
     "name": "stdout",
     "output_type": "stream",
     "text": [
      "Flipping the sign of the ground state wavefunction to ensure positive overlap.\n",
      "Exact ground state energy: [-64.05153819]\n",
      "Hamiltonian 98: Exact ground state energy: -64.05153818861595\n"
     ]
    },
    {
     "name": "stderr",
     "output_type": "stream",
     "text": [
      "100%|██████████| 1000/1000 [01:49<00:00,  9.17it/s, Energy=-1.935e+01-1.332e-15j ± 0.000e+00 [σ²=2.365e+02]]\n"
     ]
    },
    {
     "name": "stdout",
     "output_type": "stream",
     "text": [
      "Flipping the sign of the ground state wavefunction to ensure positive overlap.\n",
      "Exact ground state energy: [-48.95528056]\n",
      "Hamiltonian 99: Exact ground state energy: -48.95528055778881\n"
     ]
    },
    {
     "name": "stderr",
     "output_type": "stream",
     "text": [
      "100%|██████████| 1000/1000 [02:07<00:00,  7.85it/s, Energy=-4.044e+01-4.441e-16j ± 0.000e+00 [σ²=1.012e+02]]\n"
     ]
    },
    {
     "name": "stdout",
     "output_type": "stream",
     "text": [
      "Flipping the sign of the ground state wavefunction to ensure positive overlap.\n",
      "Exact ground state energy: [-59.03136818]\n",
      "Hamiltonian 100: Exact ground state energy: -59.03136817861835\n"
     ]
    },
    {
     "name": "stderr",
     "output_type": "stream",
     "text": [
      "100%|██████████| 1000/1000 [01:13<00:00, 13.62it/s, Energy=-2.390e+01-7.293e-16j ± 0.000e+00 [σ²=2.161e+02]]\n"
     ]
    },
    {
     "name": "stdout",
     "output_type": "stream",
     "text": [
      "Exact ground state energy: [-79.9241519]\n",
      "Hamiltonian 101: Exact ground state energy: -79.9241519029283\n"
     ]
    },
    {
     "name": "stderr",
     "output_type": "stream",
     "text": [
      "100%|██████████| 1000/1000 [01:31<00:00, 10.87it/s, Energy=-6.148e+01+9.437e-16j ± 0.000e+00 [σ²=2.838e+02]]\n"
     ]
    },
    {
     "name": "stdout",
     "output_type": "stream",
     "text": [
      "Exact ground state energy: [-71.09492535]\n",
      "Hamiltonian 102: Exact ground state energy: -71.09492534921974\n"
     ]
    },
    {
     "name": "stderr",
     "output_type": "stream",
     "text": [
      "100%|██████████| 1000/1000 [02:39<00:00,  6.28it/s, Energy=-4.847e+01+0.000e+00j ± 0.000e+00 [σ²=2.027e+02]]\n"
     ]
    },
    {
     "name": "stdout",
     "output_type": "stream",
     "text": [
      "Flipping the sign of the ground state wavefunction to ensure positive overlap.\n",
      "Exact ground state energy: [-78.22563226]\n",
      "Hamiltonian 103: Exact ground state energy: -78.22563226384936\n"
     ]
    },
    {
     "name": "stderr",
     "output_type": "stream",
     "text": [
      "100%|██████████| 1000/1000 [00:19<00:00, 50.66it/s, Energy=-4.768e+01+1.667e-17j ± 0.000e+00 [σ²=5.124e+02]]\n"
     ]
    },
    {
     "name": "stdout",
     "output_type": "stream",
     "text": [
      "Exact ground state energy: [-87.99184342]\n",
      "Hamiltonian 104: Exact ground state energy: -87.99184342079754\n"
     ]
    },
    {
     "name": "stderr",
     "output_type": "stream",
     "text": [
      "100%|██████████| 1000/1000 [01:06<00:00, 15.12it/s, Energy=-3.408e+01+3.053e-16j ± 0.000e+00 [σ²=2.464e+02]]\n"
     ]
    },
    {
     "name": "stdout",
     "output_type": "stream",
     "text": [
      "Exact ground state energy: [-83.16722972]\n",
      "Hamiltonian 105: Exact ground state energy: -83.1672297199473\n"
     ]
    },
    {
     "name": "stderr",
     "output_type": "stream",
     "text": [
      "100%|██████████| 1000/1000 [01:56<00:00,  8.58it/s, Energy=-4.966e+01+5.204e-17j ± 0.000e+00 [σ²=1.953e+02]]\n"
     ]
    },
    {
     "name": "stdout",
     "output_type": "stream",
     "text": [
      "Flipping the sign of the ground state wavefunction to ensure positive overlap.\n",
      "Exact ground state energy: [-44.796843]\n",
      "Hamiltonian 106: Exact ground state energy: -44.79684300233912\n"
     ]
    },
    {
     "name": "stderr",
     "output_type": "stream",
     "text": [
      "100%|██████████| 1000/1000 [01:46<00:00,  9.41it/s, Energy=-3.267e+01-8.327e-16j ± 0.000e+00 [σ²=6.947e+01]]\n"
     ]
    },
    {
     "name": "stdout",
     "output_type": "stream",
     "text": [
      "Flipping the sign of the ground state wavefunction to ensure positive overlap.\n",
      "Exact ground state energy: [-78.78251157]\n",
      "Hamiltonian 107: Exact ground state energy: -78.78251156687232\n"
     ]
    },
    {
     "name": "stderr",
     "output_type": "stream",
     "text": [
      "100%|██████████| 1000/1000 [00:46<00:00, 21.67it/s, Energy=-6.374e+01-9.437e-16j ± 0.000e+00 [σ²=2.881e+02]]\n"
     ]
    },
    {
     "name": "stdout",
     "output_type": "stream",
     "text": [
      "Exact ground state energy: [-75.78323725]\n",
      "Hamiltonian 108: Exact ground state energy: -75.78323724613922\n"
     ]
    },
    {
     "name": "stderr",
     "output_type": "stream",
     "text": [
      "100%|██████████| 1000/1000 [00:52<00:00, 19.19it/s, Energy=-4.546e+01+3.886e-16j ± 0.000e+00 [σ²=3.619e+02]]\n"
     ]
    },
    {
     "name": "stdout",
     "output_type": "stream",
     "text": [
      "Flipping the sign of the ground state wavefunction to ensure positive overlap.\n",
      "Exact ground state energy: [-61.51737293]\n",
      "Hamiltonian 109: Exact ground state energy: -61.517372932833695\n"
     ]
    },
    {
     "name": "stderr",
     "output_type": "stream",
     "text": [
      "100%|██████████| 1000/1000 [00:47<00:00, 20.87it/s, Energy=-5.095e+01+1.110e-15j ± 0.000e+00 [σ²=1.613e+02]]\n"
     ]
    },
    {
     "name": "stdout",
     "output_type": "stream",
     "text": [
      "Flipping the sign of the ground state wavefunction to ensure positive overlap.\n",
      "Exact ground state energy: [-80.14631976]\n",
      "Hamiltonian 110: Exact ground state energy: -80.14631975948771\n"
     ]
    },
    {
     "name": "stderr",
     "output_type": "stream",
     "text": [
      "100%|██████████| 1000/1000 [01:50<00:00,  9.07it/s, Energy=-7.817e+01+0.000e+00j ± 0.000e+00 [σ²=3.079e+01]]\n"
     ]
    },
    {
     "name": "stdout",
     "output_type": "stream",
     "text": [
      "Flipping the sign of the ground state wavefunction to ensure positive overlap.\n",
      "Exact ground state energy: [-74.16684223]\n",
      "Hamiltonian 111: Exact ground state energy: -74.16684223095282\n"
     ]
    },
    {
     "name": "stderr",
     "output_type": "stream",
     "text": [
      "100%|██████████| 1000/1000 [00:45<00:00, 22.01it/s, Energy=-5.566e+01+2.776e-16j ± 0.000e+00 [σ²=2.877e+02]]\n"
     ]
    },
    {
     "name": "stdout",
     "output_type": "stream",
     "text": [
      "Exact ground state energy: [-53.28005686]\n",
      "Hamiltonian 112: Exact ground state energy: -53.280056861513\n"
     ]
    },
    {
     "name": "stderr",
     "output_type": "stream",
     "text": [
      "100%|██████████| 1000/1000 [02:09<00:00,  7.71it/s, Energy=-4.942e+01+1.110e-16j ± 0.000e+00 [σ²=2.930e+01]]\n"
     ]
    },
    {
     "name": "stdout",
     "output_type": "stream",
     "text": [
      "Exact ground state energy: [-57.69851051]\n",
      "Hamiltonian 113: Exact ground state energy: -57.69851051321602\n"
     ]
    },
    {
     "name": "stderr",
     "output_type": "stream",
     "text": [
      "100%|██████████| 1000/1000 [02:46<00:00,  6.01it/s, Energy=-4.003e+01+5.551e-17j ± 0.000e+00 [σ²=8.402e+01]]\n"
     ]
    },
    {
     "name": "stdout",
     "output_type": "stream",
     "text": [
      "Flipping the sign of the ground state wavefunction to ensure positive overlap.\n",
      "Exact ground state energy: [-56.74206866]\n",
      "Hamiltonian 114: Exact ground state energy: -56.74206866346304\n"
     ]
    },
    {
     "name": "stderr",
     "output_type": "stream",
     "text": [
      "100%|██████████| 1000/1000 [02:37<00:00,  6.35it/s, Energy=-3.038e+01+4.441e-16j ± 0.000e+00 [σ²=2.206e+02]]\n"
     ]
    },
    {
     "name": "stdout",
     "output_type": "stream",
     "text": [
      "Flipping the sign of the ground state wavefunction to ensure positive overlap.\n",
      "Exact ground state energy: [-36.68866047]\n",
      "Hamiltonian 115: Exact ground state energy: -36.68866046531664\n"
     ]
    },
    {
     "name": "stderr",
     "output_type": "stream",
     "text": [
      "100%|██████████| 1000/1000 [00:30<00:00, 32.67it/s, Energy=-1.457e+01+3.092e-16j ± 0.000e+00 [σ²=1.173e+02]]\n"
     ]
    },
    {
     "name": "stdout",
     "output_type": "stream",
     "text": [
      "Exact ground state energy: [-75.80653002]\n",
      "Hamiltonian 116: Exact ground state energy: -75.80653001984861\n"
     ]
    },
    {
     "name": "stderr",
     "output_type": "stream",
     "text": [
      "100%|██████████| 1000/1000 [00:31<00:00, 31.69it/s, Energy=-2.568e+01+9.159e-16j ± 0.000e+00 [σ²=4.546e+02]]\n"
     ]
    },
    {
     "name": "stdout",
     "output_type": "stream",
     "text": [
      "Exact ground state energy: [-62.60849383]\n",
      "Hamiltonian 117: Exact ground state energy: -62.60849383249688\n"
     ]
    },
    {
     "name": "stderr",
     "output_type": "stream",
     "text": [
      "100%|██████████| 1000/1000 [02:54<00:00,  5.72it/s, Energy=-3.300e+01+4.441e-16j ± 0.000e+00 [σ²=1.946e+02]]\n"
     ]
    },
    {
     "name": "stdout",
     "output_type": "stream",
     "text": [
      "Flipping the sign of the ground state wavefunction to ensure positive overlap.\n",
      "Exact ground state energy: [-81.09172789]\n",
      "Hamiltonian 118: Exact ground state energy: -81.09172788735356\n"
     ]
    },
    {
     "name": "stderr",
     "output_type": "stream",
     "text": [
      "100%|██████████| 1000/1000 [01:34<00:00, 10.53it/s, Energy=-6.917e+01+6.661e-16j ± 0.000e+00 [σ²=2.087e+02]]\n"
     ]
    },
    {
     "name": "stdout",
     "output_type": "stream",
     "text": [
      "Exact ground state energy: [-54.49579052]\n",
      "Hamiltonian 119: Exact ground state energy: -54.495790523283056\n"
     ]
    },
    {
     "name": "stderr",
     "output_type": "stream",
     "text": [
      "100%|██████████| 1000/1000 [02:23<00:00,  6.96it/s, Energy=-3.523e+01+3.608e-16j ± 0.000e+00 [σ²=1.337e+02]]\n"
     ]
    },
    {
     "name": "stdout",
     "output_type": "stream",
     "text": [
      "Flipping the sign of the ground state wavefunction to ensure positive overlap.\n",
      "Exact ground state energy: [-63.29074367]\n",
      "Hamiltonian 120: Exact ground state energy: -63.29074367477994\n"
     ]
    },
    {
     "name": "stderr",
     "output_type": "stream",
     "text": [
      "100%|██████████| 1000/1000 [02:14<00:00,  7.45it/s, Energy=-3.059e+01+4.996e-16j ± 0.000e+00 [σ²=2.564e+02]]\n"
     ]
    },
    {
     "name": "stdout",
     "output_type": "stream",
     "text": [
      "Flipping the sign of the ground state wavefunction to ensure positive overlap.\n",
      "Exact ground state energy: [-63.21167983]\n",
      "Hamiltonian 121: Exact ground state energy: -63.21167982869789\n"
     ]
    },
    {
     "name": "stderr",
     "output_type": "stream",
     "text": [
      "100%|██████████| 1000/1000 [01:06<00:00, 14.93it/s, Energy=-4.015e+01+1.305e-15j ± 0.000e+00 [σ²=2.406e+02]]\n"
     ]
    },
    {
     "name": "stdout",
     "output_type": "stream",
     "text": [
      "Exact ground state energy: [-72.54379533]\n",
      "Hamiltonian 122: Exact ground state energy: -72.54379532902666\n"
     ]
    },
    {
     "name": "stderr",
     "output_type": "stream",
     "text": [
      "100%|██████████| 1000/1000 [00:41<00:00, 23.83it/s, Energy=-4.023e+01+3.331e-16j ± 0.000e+00 [σ²=4.255e+02]]\n"
     ]
    },
    {
     "name": "stdout",
     "output_type": "stream",
     "text": [
      "Flipping the sign of the ground state wavefunction to ensure positive overlap.\n",
      "Exact ground state energy: [-54.25819553]\n",
      "Hamiltonian 123: Exact ground state energy: -54.25819553456837\n"
     ]
    },
    {
     "name": "stderr",
     "output_type": "stream",
     "text": [
      "100%|██████████| 1000/1000 [01:24<00:00, 11.84it/s, Energy=-4.617e+01-7.078e-16j ± 0.000e+00 [σ²=7.823e+01]]\n"
     ]
    },
    {
     "name": "stdout",
     "output_type": "stream",
     "text": [
      "Exact ground state energy: [-71.26511851]\n",
      "Hamiltonian 124: Exact ground state energy: -71.26511851282775\n"
     ]
    },
    {
     "name": "stderr",
     "output_type": "stream",
     "text": [
      "100%|██████████| 1000/1000 [01:55<00:00,  8.67it/s, Energy=-4.109e+01+1.044e-15j ± 0.000e+00 [σ²=2.640e+02]]\n"
     ]
    },
    {
     "name": "stdout",
     "output_type": "stream",
     "text": [
      "Flipping the sign of the ground state wavefunction to ensure positive overlap.\n",
      "Exact ground state energy: [-97.86972705]\n",
      "Hamiltonian 125: Exact ground state energy: -97.86972704546595\n"
     ]
    },
    {
     "name": "stderr",
     "output_type": "stream",
     "text": [
      " 15%|█▍        | 149/1000 [00:14<01:20, 10.56it/s, Energy=-2.290e+01+9.992e-16j ± 0.000e+00 [σ²=4.662e+02]]\n"
     ]
    },
    {
     "ename": "KeyboardInterrupt",
     "evalue": "",
     "output_type": "error",
     "traceback": [
      "\u001b[31m---------------------------------------------------------------------------\u001b[39m",
      "\u001b[31mKeyboardInterrupt\u001b[39m                         Traceback (most recent call last)",
      "\u001b[36mCell\u001b[39m\u001b[36m \u001b[39m\u001b[32mIn[67]\u001b[39m\u001b[32m, line 21\u001b[39m\n\u001b[32m     11\u001b[39m h_hash = \u001b[38;5;28mhash\u001b[39m(h.tobytes())\n\u001b[32m     12\u001b[39m params = generate_params(\n\u001b[32m     13\u001b[39m     alpha=\u001b[32m1\u001b[39m,\n\u001b[32m     14\u001b[39m     seed=\u001b[32m1234\u001b[39m,\n\u001b[32m   (...)\u001b[39m\u001b[32m     18\u001b[39m     out=\u001b[33mf\u001b[39m\u001b[33m\"\u001b[39m\u001b[33mdata_rand/rbm_optimization_\u001b[39m\u001b[38;5;132;01m{\u001b[39;00mi\u001b[38;5;132;01m}\u001b[39;00m\u001b[33m\"\u001b[39m,\n\u001b[32m     19\u001b[39m )\n\u001b[32m---> \u001b[39m\u001b[32m21\u001b[39m out = \u001b[43moptimize_rbm\u001b[49m\u001b[43m(\u001b[49m\u001b[43mH\u001b[49m\u001b[43m,\u001b[49m\u001b[43m \u001b[49m\u001b[43mparams\u001b[49m\u001b[43m)\u001b[49m\n\u001b[32m     23\u001b[39m write_output(H, out, params)\n",
      "\u001b[36mFile \u001b[39m\u001b[32m/net/storage/niggeni/Documents/Projects/DataMiningRBMs/Netket/optimization.py:91\u001b[39m, in \u001b[36moptimize_rbm\u001b[39m\u001b[34m(H, params)\u001b[39m\n\u001b[32m     87\u001b[39m sr = nk.optimizer.SR(diag_shift=diag_shift)\n\u001b[32m     89\u001b[39m driver = nk.VMC(hamiltonian=H, optimizer=optimizer, variational_state=vstate, preconditioner=sr)\n\u001b[32m---> \u001b[39m\u001b[32m91\u001b[39m \u001b[43mdriver\u001b[49m\u001b[43m.\u001b[49m\u001b[43mrun\u001b[49m\u001b[43m(\u001b[49m\u001b[43mn_iter\u001b[49m\u001b[43m=\u001b[49m\u001b[43mn_iter\u001b[49m\u001b[43m,\u001b[49m\u001b[43m \u001b[49m\u001b[43mout\u001b[49m\u001b[43m=\u001b[49m\u001b[43mout\u001b[49m\u001b[43m,\u001b[49m\u001b[43m \u001b[49m\u001b[43mshow_progress\u001b[49m\u001b[43m=\u001b[49m\u001b[43mshow_progress\u001b[49m\u001b[43m)\u001b[49m\n\u001b[32m     92\u001b[39m \u001b[38;5;28;01mreturn\u001b[39;00m vstate\n",
      "\u001b[36mFile \u001b[39m\u001b[32m/storage/niggeni/pyenv/venv/lib/python3.13/site-packages/netket/driver/abstract_variational_driver.py:347\u001b[39m, in \u001b[36mAbstractVariationalDriver.run\u001b[39m\u001b[34m(self, n_iter, out, obs, step_size, show_progress, save_params_every, write_every, callback, timeit)\u001b[39m\n\u001b[32m    344\u001b[39m old_step = \u001b[38;5;28mself\u001b[39m.step_count\n\u001b[32m    345\u001b[39m first_step = \u001b[38;5;28;01mTrue\u001b[39;00m\n\u001b[32m--> \u001b[39m\u001b[32m347\u001b[39m \u001b[43m\u001b[49m\u001b[38;5;28;43;01mfor\u001b[39;49;00m\u001b[43m \u001b[49m\u001b[43mstep\u001b[49m\u001b[43m \u001b[49m\u001b[38;5;129;43;01min\u001b[39;49;00m\u001b[43m \u001b[49m\u001b[38;5;28;43mself\u001b[39;49m\u001b[43m.\u001b[49m\u001b[43miter\u001b[49m\u001b[43m(\u001b[49m\u001b[43mn_iter\u001b[49m\u001b[43m,\u001b[49m\u001b[43m \u001b[49m\u001b[43mstep_size\u001b[49m\u001b[43m)\u001b[49m\u001b[43m:\u001b[49m\n\u001b[32m    348\u001b[39m \u001b[43m    \u001b[49m\u001b[43mlog_data\u001b[49m\u001b[43m \u001b[49m\u001b[43m=\u001b[49m\u001b[43m \u001b[49m\u001b[38;5;28;43mself\u001b[39;49m\u001b[43m.\u001b[49m\u001b[43mestimate\u001b[49m\u001b[43m(\u001b[49m\u001b[43mobs\u001b[49m\u001b[43m)\u001b[49m\n\u001b[32m    349\u001b[39m \u001b[43m    \u001b[49m\u001b[38;5;28;43mself\u001b[39;49m\u001b[43m.\u001b[49m\u001b[43m_log_additional_data\u001b[49m\u001b[43m(\u001b[49m\u001b[43mlog_data\u001b[49m\u001b[43m,\u001b[49m\u001b[43m \u001b[49m\u001b[43mstep\u001b[49m\u001b[43m)\u001b[49m\n",
      "\u001b[36mFile \u001b[39m\u001b[32m/storage/niggeni/pyenv/venv/lib/python3.13/site-packages/netket/driver/abstract_variational_driver.py:232\u001b[39m, in \u001b[36mAbstractVariationalDriver.iter\u001b[39m\u001b[34m(self, n_steps, step)\u001b[39m\n\u001b[32m    230\u001b[39m \u001b[38;5;28;01mfor\u001b[39;00m _ \u001b[38;5;129;01min\u001b[39;00m \u001b[38;5;28mrange\u001b[39m(\u001b[32m0\u001b[39m, n_steps, step):\n\u001b[32m    231\u001b[39m     \u001b[38;5;28;01mfor\u001b[39;00m i \u001b[38;5;129;01min\u001b[39;00m \u001b[38;5;28mrange\u001b[39m(\u001b[32m0\u001b[39m, step):\n\u001b[32m--> \u001b[39m\u001b[32m232\u001b[39m         \u001b[38;5;28mself\u001b[39m._dp = \u001b[38;5;28;43mself\u001b[39;49m\u001b[43m.\u001b[49m\u001b[43m_forward_and_backward\u001b[49m\u001b[43m(\u001b[49m\u001b[43m)\u001b[49m\n\u001b[32m    233\u001b[39m         \u001b[38;5;28;01mif\u001b[39;00m i == \u001b[32m0\u001b[39m:\n\u001b[32m    234\u001b[39m             \u001b[38;5;28;01myield\u001b[39;00m \u001b[38;5;28mself\u001b[39m.step_count\n",
      "    \u001b[31m[... skipping hidden 1 frame]\u001b[39m\n",
      "\u001b[36mFile \u001b[39m\u001b[32m/storage/niggeni/pyenv/venv/lib/python3.13/site-packages/netket/driver/vmc.py:122\u001b[39m, in \u001b[36mVMC._forward_and_backward\u001b[39m\u001b[34m(self)\u001b[39m\n\u001b[32m    119\u001b[39m \u001b[38;5;28mself\u001b[39m.state.reset()\n\u001b[32m    121\u001b[39m \u001b[38;5;66;03m# Compute the local energy estimator and average Energy\u001b[39;00m\n\u001b[32m--> \u001b[39m\u001b[32m122\u001b[39m \u001b[38;5;28mself\u001b[39m._loss_stats, \u001b[38;5;28mself\u001b[39m._loss_grad = \u001b[38;5;28;43mself\u001b[39;49m\u001b[43m.\u001b[49m\u001b[43mstate\u001b[49m\u001b[43m.\u001b[49m\u001b[43mexpect_and_grad\u001b[49m\u001b[43m(\u001b[49m\u001b[38;5;28;43mself\u001b[39;49m\u001b[43m.\u001b[49m\u001b[43m_ham\u001b[49m\u001b[43m)\u001b[49m\n\u001b[32m    124\u001b[39m \u001b[38;5;66;03m# if it's the identity it does\u001b[39;00m\n\u001b[32m    125\u001b[39m \u001b[38;5;66;03m# self._dp = self._loss_grad\u001b[39;00m\n\u001b[32m    126\u001b[39m \u001b[38;5;28mself\u001b[39m._dp = \u001b[38;5;28mself\u001b[39m.preconditioner(\u001b[38;5;28mself\u001b[39m.state, \u001b[38;5;28mself\u001b[39m._loss_grad, \u001b[38;5;28mself\u001b[39m.step_count)\n",
      "\u001b[36mFile \u001b[39m\u001b[32m/storage/niggeni/pyenv/venv/lib/python3.13/site-packages/netket/vqs/base.py:246\u001b[39m, in \u001b[36mVariationalState.expect_and_grad\u001b[39m\u001b[34m(self, O, mutable, **kwargs)\u001b[39m\n\u001b[32m    243\u001b[39m \u001b[38;5;28;01mif\u001b[39;00m mutable \u001b[38;5;129;01mis\u001b[39;00m \u001b[38;5;28;01mNone\u001b[39;00m:\n\u001b[32m    244\u001b[39m     mutable = \u001b[38;5;28mself\u001b[39m.mutable\n\u001b[32m--> \u001b[39m\u001b[32m246\u001b[39m \u001b[38;5;28;01mreturn\u001b[39;00m \u001b[43mexpect_and_grad\u001b[49m\u001b[43m(\u001b[49m\u001b[38;5;28;43mself\u001b[39;49m\u001b[43m,\u001b[49m\u001b[43m \u001b[49m\u001b[43mO\u001b[49m\u001b[43m,\u001b[49m\u001b[43m \u001b[49m\u001b[43mmutable\u001b[49m\u001b[43m=\u001b[49m\u001b[43mmutable\u001b[49m\u001b[43m,\u001b[49m\u001b[43m \u001b[49m\u001b[43m*\u001b[49m\u001b[43m*\u001b[49m\u001b[43mkwargs\u001b[49m\u001b[43m)\u001b[49m\n",
      "    \u001b[31m[... skipping hidden 1 frame]\u001b[39m\n",
      "\u001b[36mFile \u001b[39m\u001b[32m/storage/niggeni/pyenv/venv/lib/python3.13/site-packages/netket/vqs/full_summ/expect.py:85\u001b[39m, in \u001b[36mexpect_and_grad_fullsum\u001b[39m\u001b[34m(vstate, Ô, mutable, use_covariance, *args, **kwargs)\u001b[39m\n\u001b[32m     78\u001b[39m     use_covariance = Ô.is_hermitian\n\u001b[32m     80\u001b[39m \u001b[38;5;28;01mif\u001b[39;00m use_covariance:\n\u001b[32m     81\u001b[39m     \u001b[38;5;66;03m# Implementation of expect_and_grad for `use_covariance == True` (due to the Literal[True]\u001b[39;00m\n\u001b[32m     82\u001b[39m     \u001b[38;5;66;03m# type in the signature).` This case is equivalent to the composition of the\u001b[39;00m\n\u001b[32m     83\u001b[39m     \u001b[38;5;66;03m# `expect_and_forces` and `force_to_grad` functions.\u001b[39;00m\n\u001b[32m     84\u001b[39m     \u001b[38;5;66;03m# return expect_and_grad_from_covariance(vstate, Ô, *args, mutable=mutable)\u001b[39;00m\n\u001b[32m---> \u001b[39m\u001b[32m85\u001b[39m     Ō, Ō_grad = \u001b[43mexpect_and_forces\u001b[49m\u001b[43m(\u001b[49m\u001b[43mvstate\u001b[49m\u001b[43m,\u001b[49m\u001b[43m \u001b[49m\u001b[43mÔ\u001b[49m\u001b[43m,\u001b[49m\u001b[43m \u001b[49m\u001b[43m*\u001b[49m\u001b[43margs\u001b[49m\u001b[43m,\u001b[49m\u001b[43m \u001b[49m\u001b[43mmutable\u001b[49m\u001b[43m=\u001b[49m\u001b[43mmutable\u001b[49m\u001b[43m,\u001b[49m\u001b[43m \u001b[49m\u001b[43m*\u001b[49m\u001b[43m*\u001b[49m\u001b[43mkwargs\u001b[49m\u001b[43m)\u001b[49m\n\u001b[32m     86\u001b[39m     Ō_grad = force_to_grad(Ō_grad, vstate.parameters)\n\u001b[32m     87\u001b[39m     \u001b[38;5;28;01mreturn\u001b[39;00m Ō, Ō_grad\n",
      "    \u001b[31m[... skipping hidden 1 frame]\u001b[39m\n",
      "\u001b[36mFile \u001b[39m\u001b[32m/storage/niggeni/pyenv/venv/lib/python3.13/site-packages/netket/vqs/full_summ/expect.py:109\u001b[39m, in \u001b[36mexpect_and_forces_fullsum\u001b[39m\u001b[34m(vstate, Ô, mutable)\u001b[39m\n\u001b[32m    107\u001b[39m O = sparsify(Ô)\n\u001b[32m    108\u001b[39m Ψ = vstate.to_array()\n\u001b[32m--> \u001b[39m\u001b[32m109\u001b[39m OΨ = \u001b[43mO\u001b[49m\u001b[43m \u001b[49m\u001b[43m@\u001b[49m\u001b[43m \u001b[49m\u001b[43mΨ\u001b[49m\n\u001b[32m    111\u001b[39m expval_O, Ō_grad, new_model_state = _exp_forces(\n\u001b[32m    112\u001b[39m     vstate._apply_fun,\n\u001b[32m    113\u001b[39m     mutable,\n\u001b[32m   (...)\u001b[39m\u001b[32m    118\u001b[39m     Ψ,\n\u001b[32m    119\u001b[39m )\n\u001b[32m    121\u001b[39m \u001b[38;5;28;01mif\u001b[39;00m mutable \u001b[38;5;129;01mis\u001b[39;00m \u001b[38;5;129;01mnot\u001b[39;00m \u001b[38;5;28;01mFalse\u001b[39;00m:\n",
      "\u001b[36mFile \u001b[39m\u001b[32m/storage/niggeni/pyenv/venv/lib/python3.13/site-packages/scipy/sparse/_base.py:732\u001b[39m, in \u001b[36m_spbase.__matmul__\u001b[39m\u001b[34m(self, other)\u001b[39m\n\u001b[32m    729\u001b[39m \u001b[38;5;28;01mif\u001b[39;00m isscalarlike(other):\n\u001b[32m    730\u001b[39m     \u001b[38;5;28;01mraise\u001b[39;00m \u001b[38;5;167;01mValueError\u001b[39;00m(\u001b[33m\"\u001b[39m\u001b[33mScalar operands are not allowed, \u001b[39m\u001b[33m\"\u001b[39m\n\u001b[32m    731\u001b[39m                      \u001b[33m\"\u001b[39m\u001b[33muse \u001b[39m\u001b[33m'\u001b[39m\u001b[33m*\u001b[39m\u001b[33m'\u001b[39m\u001b[33m instead\u001b[39m\u001b[33m\"\u001b[39m)\n\u001b[32m--> \u001b[39m\u001b[32m732\u001b[39m \u001b[38;5;28;01mreturn\u001b[39;00m \u001b[38;5;28;43mself\u001b[39;49m\u001b[43m.\u001b[49m\u001b[43m_matmul_dispatch\u001b[49m\u001b[43m(\u001b[49m\u001b[43mother\u001b[49m\u001b[43m)\u001b[49m\n",
      "\u001b[36mFile \u001b[39m\u001b[32m/storage/niggeni/pyenv/venv/lib/python3.13/site-packages/scipy/sparse/_base.py:658\u001b[39m, in \u001b[36m_spbase._matmul_dispatch\u001b[39m\u001b[34m(self, other)\u001b[39m\n\u001b[32m    653\u001b[39m \u001b[38;5;28;01mif\u001b[39;00m other.shape[\u001b[32m0\u001b[39m] != N:\n\u001b[32m    654\u001b[39m     \u001b[38;5;28;01mraise\u001b[39;00m \u001b[38;5;167;01mValueError\u001b[39;00m(\n\u001b[32m    655\u001b[39m         \u001b[33mf\u001b[39m\u001b[33m\"\u001b[39m\u001b[38;5;132;01m{\u001b[39;00merr_prefix\u001b[38;5;132;01m}\u001b[39;00m\u001b[33m (n,k=\u001b[39m\u001b[38;5;132;01m{\u001b[39;00mN\u001b[38;5;132;01m}\u001b[39;00m\u001b[33m),(k=\u001b[39m\u001b[38;5;132;01m{\u001b[39;00mother.shape[\u001b[32m0\u001b[39m]\u001b[38;5;132;01m}\u001b[39;00m\u001b[33m,1?)->(n,1?)\u001b[39m\u001b[33m\"\u001b[39m\n\u001b[32m    656\u001b[39m     )\n\u001b[32m--> \u001b[39m\u001b[32m658\u001b[39m result = \u001b[38;5;28;43mself\u001b[39;49m\u001b[43m.\u001b[49m\u001b[43m_matmul_vector\u001b[49m\u001b[43m(\u001b[49m\u001b[43mnp\u001b[49m\u001b[43m.\u001b[49m\u001b[43mravel\u001b[49m\u001b[43m(\u001b[49m\u001b[43mother\u001b[49m\u001b[43m)\u001b[49m\u001b[43m)\u001b[49m\n\u001b[32m    660\u001b[39m \u001b[38;5;28;01mif\u001b[39;00m \u001b[38;5;28misinstance\u001b[39m(other, np.matrix):\n\u001b[32m    661\u001b[39m     result = \u001b[38;5;28mself\u001b[39m._ascontainer(result)\n",
      "\u001b[36mFile \u001b[39m\u001b[32m/storage/niggeni/pyenv/venv/lib/python3.13/site-packages/scipy/sparse/_compressed.py:526\u001b[39m, in \u001b[36m_cs_matrix._matmul_vector\u001b[39m\u001b[34m(self, other)\u001b[39m\n\u001b[32m    524\u001b[39m \u001b[38;5;66;03m# csr_matvec or csc_matvec\u001b[39;00m\n\u001b[32m    525\u001b[39m fn = \u001b[38;5;28mgetattr\u001b[39m(_sparsetools, \u001b[38;5;28mself\u001b[39m.format + \u001b[33m'\u001b[39m\u001b[33m_matvec\u001b[39m\u001b[33m'\u001b[39m)\n\u001b[32m--> \u001b[39m\u001b[32m526\u001b[39m \u001b[43mfn\u001b[49m\u001b[43m(\u001b[49m\u001b[43mM\u001b[49m\u001b[43m,\u001b[49m\u001b[43m \u001b[49m\u001b[43mN\u001b[49m\u001b[43m,\u001b[49m\u001b[43m \u001b[49m\u001b[38;5;28;43mself\u001b[39;49m\u001b[43m.\u001b[49m\u001b[43mindptr\u001b[49m\u001b[43m,\u001b[49m\u001b[43m \u001b[49m\u001b[38;5;28;43mself\u001b[39;49m\u001b[43m.\u001b[49m\u001b[43mindices\u001b[49m\u001b[43m,\u001b[49m\u001b[43m \u001b[49m\u001b[38;5;28;43mself\u001b[39;49m\u001b[43m.\u001b[49m\u001b[43mdata\u001b[49m\u001b[43m,\u001b[49m\u001b[43m \u001b[49m\u001b[43mother\u001b[49m\u001b[43m,\u001b[49m\u001b[43m \u001b[49m\u001b[43mresult\u001b[49m\u001b[43m)\u001b[49m\n\u001b[32m    528\u001b[39m \u001b[38;5;28;01mreturn\u001b[39;00m result[\u001b[32m0\u001b[39m] \u001b[38;5;28;01mif\u001b[39;00m \u001b[38;5;28mself\u001b[39m.ndim == \u001b[32m1\u001b[39m \u001b[38;5;28;01melse\u001b[39;00m result\n",
      "\u001b[31mKeyboardInterrupt\u001b[39m: "
     ]
    }
   ],
   "source": [
    "Jij,h = parseCouplings.parseCouplings()\n",
    "for i in range(300):\n",
    "    H = construct_hamiltonian_bonds(Jij[i], h[i],  g.edges())\n",
    "\n",
    "    exact_ground_energy,exact_ground_state = nk.exact.lanczos_ed(H, k = 1, compute_eigenvectors = True)\n",
    "    print(\"Exact ground state energy:\", exact_ground_energy)\n",
    "    exact_ground_energy, exact_ground_state = nk.exact.lanczos_ed(H, k=1, compute_eigenvectors=True)\n",
    "    print(f\"Hamiltonian {i+1}: Exact ground state energy: {exact_ground_energy[0]}\")\n",
    "    \n",
    "    Jij_hash = hash(Jij.tobytes())\n",
    "    h_hash = hash(h.tobytes())\n",
    "    params = generate_params(\n",
    "        alpha=1,\n",
    "        seed=1234,\n",
    "        learning_rate=3e-2,\n",
    "        n_iter=1000,\n",
    "        show_progress=True,\n",
    "        out=f\"data_rand/rbm_optimization_{i}\",\n",
    "    )\n",
    "    \n",
    "    out = optimize_rbm(H, params)\n",
    "    \n",
    "    write_output(H, out, params)"
   ]
  },
  {
   "cell_type": "code",
   "execution_count": 69,
   "id": "1bf52f3f",
   "metadata": {},
   "outputs": [
    {
     "name": "stdout",
     "output_type": "stream",
     "text": [
      "['data_rand/rbm_optimization_6_alpha_1_seed_1234_learning_rate_0_03_n_iter_1000_show_progress_True.h5', 'data_rand/rbm_optimization_60_alpha_1_seed_1234_learning_rate_0_03_n_iter_1000_show_progress_True.h5', 'data_rand/rbm_optimization_103_alpha_1_seed_1234_learning_rate_0_03_n_iter_1000_show_progress_True.h5', 'data_rand/rbm_optimization_35_alpha_1_seed_1234_learning_rate_0_03_n_iter_1000_show_progress_True.h5', 'data_rand/rbm_optimization_34_alpha_1_seed_1234_learning_rate_0_03_n_iter_1000_show_progress_True.h5', 'data_rand/rbm_optimization_61_alpha_1_seed_1234_learning_rate_0_03_n_iter_1000_show_progress_True.h5', 'data_rand/rbm_optimization_102_alpha_1_seed_1234_learning_rate_0_03_n_iter_1000_show_progress_True.h5', 'data_rand/rbm_optimization_7_alpha_1_seed_1234_learning_rate_0_03_n_iter_1000_show_progress_True.h5', 'data_rand/rbm_optimization_48_alpha_1_seed_1234_learning_rate_0_03_n_iter_1000_show_progress_True.h5', 'data_rand/rbm_optimization_5_alpha_1_seed_1234_learning_rate_0_03_n_iter_1000_show_progress_True.h5', 'data_rand/rbm_optimization_36_alpha_1_seed_1234_learning_rate_0_03_n_iter_1000_show_progress_True.h5', 'data_rand/rbm_optimization_63_alpha_1_seed_1234_learning_rate_0_03_n_iter_1000_show_progress_True.h5', 'data_rand/rbm_optimization_100_alpha_1_seed_1234_learning_rate_0_03_n_iter_1000_show_progress_True.h5', 'data_rand/rbm_optimization_62_alpha_1_seed_1234_learning_rate_0_03_n_iter_1000_show_progress_True.h5', 'data_rand/rbm_optimization_101_alpha_1_seed_1234_learning_rate_0_03_n_iter_1000_show_progress_True.h5', 'data_rand/rbm_optimization_37_alpha_1_seed_1234_learning_rate_0_03_n_iter_1000_show_progress_True.h5', 'data_rand/rbm_optimization_49_alpha_1_seed_1234_learning_rate_0_03_n_iter_1000_show_progress_True.h5', 'data_rand/rbm_optimization_4_alpha_1_seed_1234_learning_rate_0_03_n_iter_1000_show_progress_True.h5', 'data_rand/rbm_optimization_66_alpha_1_seed_1234_learning_rate_0_03_n_iter_1000_show_progress_True.h5', 'data_rand/rbm_optimization_105_alpha_1_seed_1234_learning_rate_0_03_n_iter_1000_show_progress_True.h5', 'data_rand/rbm_optimization_33_alpha_1_seed_1234_learning_rate_0_03_n_iter_1000_show_progress_True.h5', 'data_rand/rbm_optimization_0_alpha_1_seed_1234_learning_rate_0_03_n_iter_1000_show_progress_True.h5', 'data_rand/rbm_optimization_99_alpha_1_seed_1234_learning_rate_0_03_n_iter_1000_show_progress_True.h5', 'data_rand/rbm_optimization_18_alpha_1_seed_1234_learning_rate_0_03_n_iter_1000_show_progress_True.h5', 'data_rand/rbm_optimization_19_alpha_1_seed_1234_learning_rate_0_03_n_iter_1000_show_progress_True.h5', 'data_rand/rbm_optimization_1_alpha_1_seed_1234_learning_rate_0_03_n_iter_1000_show_progress_True.h5', 'data_rand/rbm_optimization_98_alpha_1_seed_1234_learning_rate_0_03_n_iter_1000_show_progress_True.h5', 'data_rand/rbm_optimization_32_alpha_1_seed_1234_learning_rate_0_03_n_iter_1000_show_progress_True.h5', 'data_rand/rbm_optimization_67_alpha_1_seed_1234_learning_rate_0_03_n_iter_1000_show_progress_True.h5', 'data_rand/rbm_optimization_104_alpha_1_seed_1234_learning_rate_0_03_n_iter_1000_show_progress_True.h5', 'data_rand/rbm_optimization_30_alpha_1_seed_1234_learning_rate_0_03_n_iter_1000_show_progress_True.h5', 'data_rand/rbm_optimization_65_alpha_1_seed_1234_learning_rate_0_03_n_iter_1000_show_progress_True.h5', 'data_rand/rbm_optimization_106_alpha_1_seed_1234_learning_rate_0_03_n_iter_1000_show_progress_True.h5', 'data_rand/rbm_optimization_3_alpha_1_seed_1234_learning_rate_0_03_n_iter_1000_show_progress_True.h5', 'data_rand/rbm_optimization_2_alpha_1_seed_1234_learning_rate_0_03_n_iter_1000_show_progress_True.h5', 'data_rand/rbm_optimization_64_alpha_1_seed_1234_learning_rate_0_03_n_iter_1000_show_progress_True.h5', 'data_rand/rbm_optimization_107_alpha_1_seed_1234_learning_rate_0_03_n_iter_1000_show_progress_True.h5', 'data_rand/rbm_optimization_31_alpha_1_seed_1234_learning_rate_0_03_n_iter_1000_show_progress_True.h5', 'data_rand/rbm_optimization_38_alpha_1_seed_1234_learning_rate_0_03_n_iter_1000_show_progress_True.h5', 'data_rand/rbm_optimization_13_alpha_1_seed_1234_learning_rate_0_03_n_iter_1000_show_progress_True.h5', 'data_rand/rbm_optimization_92_alpha_1_seed_1234_learning_rate_0_03_n_iter_1000_show_progress_True.h5', 'data_rand/rbm_optimization_46_alpha_1_seed_1234_learning_rate_0_03_n_iter_1000_show_progress_True.h5', 'data_rand/rbm_optimization_93_alpha_1_seed_1234_learning_rate_0_03_n_iter_1000_show_progress_True.h5', 'data_rand/rbm_optimization_47_alpha_1_seed_1234_learning_rate_0_03_n_iter_1000_show_progress_True.h5', 'data_rand/rbm_optimization_12_alpha_1_seed_1234_learning_rate_0_03_n_iter_1000_show_progress_True.h5', 'data_rand/rbm_optimization_39_alpha_1_seed_1234_learning_rate_0_03_n_iter_1000_show_progress_True.h5', 'data_rand/rbm_optimization_8_alpha_1_seed_1234_learning_rate_0_03_n_iter_1000_show_progress_True.h5', 'data_rand/rbm_optimization_91_alpha_1_seed_1234_learning_rate_0_03_n_iter_1000_show_progress_True.h5', 'data_rand/rbm_optimization_45_alpha_1_seed_1234_learning_rate_0_03_n_iter_1000_show_progress_True.h5', 'data_rand/rbm_optimization_10_alpha_1_seed_1234_learning_rate_0_03_n_iter_1000_show_progress_True.h5', 'data_rand/rbm_optimization_11_alpha_1_seed_1234_learning_rate_0_03_n_iter_1000_show_progress_True.h5', 'data_rand/rbm_optimization_9_alpha_1_seed_1234_learning_rate_0_03_n_iter_1000_show_progress_True.h5', 'data_rand/rbm_optimization_90_alpha_1_seed_1234_learning_rate_0_03_n_iter_1000_show_progress_True.h5', 'data_rand/rbm_optimization_44_alpha_1_seed_1234_learning_rate_0_03_n_iter_1000_show_progress_True.h5', 'data_rand/rbm_optimization_15_alpha_1_seed_1234_learning_rate_0_03_n_iter_1000_show_progress_True.h5', 'data_rand/rbm_optimization_94_alpha_1_seed_1234_learning_rate_0_03_n_iter_1000_show_progress_True.h5', 'data_rand/rbm_optimization_123_alpha_1_seed_1234_learning_rate_0_03_n_iter_1000_show_progress_True.h5', 'data_rand/rbm_optimization_40_alpha_1_seed_1234_learning_rate_0_03_n_iter_1000_show_progress_True.h5', 'data_rand/rbm_optimization_108_alpha_1_seed_1234_learning_rate_0_03_n_iter_1000_show_progress_True.h5', 'data_rand/rbm_optimization_109_alpha_1_seed_1234_learning_rate_0_03_n_iter_1000_show_progress_True.h5', 'data_rand/rbm_optimization_95_alpha_1_seed_1234_learning_rate_0_03_n_iter_1000_show_progress_True.h5', 'data_rand/rbm_optimization_122_alpha_1_seed_1234_learning_rate_0_03_n_iter_1000_show_progress_True.h5', 'data_rand/rbm_optimization_41_alpha_1_seed_1234_learning_rate_0_03_n_iter_1000_show_progress_True.h5', 'data_rand/rbm_optimization_14_alpha_1_seed_1234_learning_rate_0_03_n_iter_1000_show_progress_True.h5', 'data_rand/rbm_optimization_120_alpha_1_seed_1234_learning_rate_0_03_n_iter_1000_show_progress_True.h5', 'data_rand/rbm_optimization_97_alpha_1_seed_1234_learning_rate_0_03_n_iter_1000_show_progress_True.h5', 'data_rand/rbm_optimization_43_alpha_1_seed_1234_learning_rate_0_03_n_iter_1000_show_progress_True.h5', 'data_rand/rbm_optimization_16_alpha_1_seed_1234_learning_rate_0_03_n_iter_1000_show_progress_True.h5', 'data_rand/rbm_optimization_68_alpha_1_seed_1234_learning_rate_0_03_n_iter_1000_show_progress_True.h5', 'data_rand/rbm_optimization_69_alpha_1_seed_1234_learning_rate_0_03_n_iter_1000_show_progress_True.h5', 'data_rand/rbm_optimization_17_alpha_1_seed_1234_learning_rate_0_03_n_iter_1000_show_progress_True.h5', 'data_rand/rbm_optimization_121_alpha_1_seed_1234_learning_rate_0_03_n_iter_1000_show_progress_True.h5', 'data_rand/rbm_optimization_96_alpha_1_seed_1234_learning_rate_0_03_n_iter_1000_show_progress_True.h5', 'data_rand/rbm_optimization_42_alpha_1_seed_1234_learning_rate_0_03_n_iter_1000_show_progress_True.h5', 'data_rand/rbm_optimization_79_alpha_1_seed_1234_learning_rate_0_03_n_iter_1000_show_progress_True.h5', 'data_rand/rbm_optimization_86_alpha_1_seed_1234_learning_rate_0_03_n_iter_1000_show_progress_True.h5', 'data_rand/rbm_optimization_52_alpha_1_seed_1234_learning_rate_0_03_n_iter_1000_show_progress_True.h5', 'data_rand/rbm_optimization_87_alpha_1_seed_1234_learning_rate_0_03_n_iter_1000_show_progress_True.h5', 'data_rand/rbm_optimization_53_alpha_1_seed_1234_learning_rate_0_03_n_iter_1000_show_progress_True.h5', 'data_rand/rbm_optimization_78_alpha_1_seed_1234_learning_rate_0_03_n_iter_1000_show_progress_True.h5', 'data_rand/rbm_optimization_119_alpha_1_seed_1234_learning_rate_0_03_n_iter_1000_show_progress_True.h5', 'data_rand/rbm_optimization_85_alpha_1_seed_1234_learning_rate_0_03_n_iter_1000_show_progress_True.h5', 'data_rand/rbm_optimization_51_alpha_1_seed_1234_learning_rate_0_03_n_iter_1000_show_progress_True.h5', 'data_rand/rbm_optimization_84_alpha_1_seed_1234_learning_rate_0_03_n_iter_1000_show_progress_True.h5', 'data_rand/rbm_optimization_50_alpha_1_seed_1234_learning_rate_0_03_n_iter_1000_show_progress_True.h5', 'data_rand/rbm_optimization_118_alpha_1_seed_1234_learning_rate_0_03_n_iter_1000_show_progress_True.h5', 'data_rand/rbm_optimization_80_alpha_1_seed_1234_learning_rate_0_03_n_iter_1000_show_progress_True.h5', 'data_rand/rbm_optimization_54_alpha_1_seed_1234_learning_rate_0_03_n_iter_1000_show_progress_True.h5', 'data_rand/rbm_optimization_81_alpha_1_seed_1234_learning_rate_0_03_n_iter_1000_show_progress_True.h5', 'data_rand/rbm_optimization_55_alpha_1_seed_1234_learning_rate_0_03_n_iter_1000_show_progress_True.h5', 'data_rand/rbm_optimization_83_alpha_1_seed_1234_learning_rate_0_03_n_iter_1000_show_progress_True.h5', 'data_rand/rbm_optimization_57_alpha_1_seed_1234_learning_rate_0_03_n_iter_1000_show_progress_True.h5', 'data_rand/rbm_optimization_29_alpha_1_seed_1234_learning_rate_0_03_n_iter_1000_show_progress_True.h5', 'data_rand/rbm_optimization_28_alpha_1_seed_1234_learning_rate_0_03_n_iter_1000_show_progress_True.h5', 'data_rand/rbm_optimization_82_alpha_1_seed_1234_learning_rate_0_03_n_iter_1000_show_progress_True.h5', 'data_rand/rbm_optimization_56_alpha_1_seed_1234_learning_rate_0_03_n_iter_1000_show_progress_True.h5', 'data_rand/rbm_optimization_21_alpha_1_seed_1234_learning_rate_0_03_n_iter_1000_show_progress_True.h5', 'data_rand/rbm_optimization_74_alpha_1_seed_1234_learning_rate_0_03_n_iter_1000_show_progress_True.h5', 'data_rand/rbm_optimization_117_alpha_1_seed_1234_learning_rate_0_03_n_iter_1000_show_progress_True.h5', 'data_rand/rbm_optimization_75_alpha_1_seed_1234_learning_rate_0_03_n_iter_1000_show_progress_True.h5', 'data_rand/rbm_optimization_116_alpha_1_seed_1234_learning_rate_0_03_n_iter_1000_show_progress_True.h5', 'data_rand/rbm_optimization_20_alpha_1_seed_1234_learning_rate_0_03_n_iter_1000_show_progress_True.h5', 'data_rand/rbm_optimization_88_alpha_1_seed_1234_learning_rate_0_03_n_iter_1000_show_progress_True.h5', 'data_rand/rbm_optimization_77_alpha_1_seed_1234_learning_rate_0_03_n_iter_1000_show_progress_True.h5', 'data_rand/rbm_optimization_114_alpha_1_seed_1234_learning_rate_0_03_n_iter_1000_show_progress_True.h5', 'data_rand/rbm_optimization_22_alpha_1_seed_1234_learning_rate_0_03_n_iter_1000_show_progress_True.h5', 'data_rand/rbm_optimization_23_alpha_1_seed_1234_learning_rate_0_03_n_iter_1000_show_progress_True.h5', 'data_rand/rbm_optimization_76_alpha_1_seed_1234_learning_rate_0_03_n_iter_1000_show_progress_True.h5', 'data_rand/rbm_optimization_115_alpha_1_seed_1234_learning_rate_0_03_n_iter_1000_show_progress_True.h5', 'data_rand/rbm_optimization_89_alpha_1_seed_1234_learning_rate_0_03_n_iter_1000_show_progress_True.h5', 'data_rand/rbm_optimization_27_alpha_1_seed_1234_learning_rate_0_03_n_iter_1000_show_progress_True.h5', 'data_rand/rbm_optimization_72_alpha_1_seed_1234_learning_rate_0_03_n_iter_1000_show_progress_True.h5', 'data_rand/rbm_optimization_111_alpha_1_seed_1234_learning_rate_0_03_n_iter_1000_show_progress_True.h5', 'data_rand/rbm_optimization_59_alpha_1_seed_1234_learning_rate_0_03_n_iter_1000_show_progress_True.h5', 'data_rand/rbm_optimization_58_alpha_1_seed_1234_learning_rate_0_03_n_iter_1000_show_progress_True.h5', 'data_rand/rbm_optimization_73_alpha_1_seed_1234_learning_rate_0_03_n_iter_1000_show_progress_True.h5', 'data_rand/rbm_optimization_110_alpha_1_seed_1234_learning_rate_0_03_n_iter_1000_show_progress_True.h5', 'data_rand/rbm_optimization_26_alpha_1_seed_1234_learning_rate_0_03_n_iter_1000_show_progress_True.h5', 'data_rand/rbm_optimization_71_alpha_1_seed_1234_learning_rate_0_03_n_iter_1000_show_progress_True.h5', 'data_rand/rbm_optimization_112_alpha_1_seed_1234_learning_rate_0_03_n_iter_1000_show_progress_True.h5', 'data_rand/rbm_optimization_24_alpha_1_seed_1234_learning_rate_0_03_n_iter_1000_show_progress_True.h5', 'data_rand/rbm_optimization_25_alpha_1_seed_1234_learning_rate_0_03_n_iter_1000_show_progress_True.h5', 'data_rand/rbm_optimization_70_alpha_1_seed_1234_learning_rate_0_03_n_iter_1000_show_progress_True.h5', 'data_rand/rbm_optimization_113_alpha_1_seed_1234_learning_rate_0_03_n_iter_1000_show_progress_True.h5']\n"
     ]
    }
   ],
   "source": [
    "import os\n",
    "\n",
    "h5_files = [os.path.join(\"data_rand\", f) for f in os.listdir('data_rand') if f.endswith('.h5')]\n",
    "print(h5_files)"
   ]
  },
  {
   "cell_type": "code",
   "execution_count": 70,
   "id": "3cfc8781",
   "metadata": {},
   "outputs": [
    {
     "data": {
      "text/html": [
       "<div>\n",
       "<style scoped>\n",
       "    .dataframe tbody tr th:only-of-type {\n",
       "        vertical-align: middle;\n",
       "    }\n",
       "\n",
       "    .dataframe tbody tr th {\n",
       "        vertical-align: top;\n",
       "    }\n",
       "\n",
       "    .dataframe thead th {\n",
       "        text-align: right;\n",
       "    }\n",
       "</style>\n",
       "<table border=\"1\" class=\"dataframe\">\n",
       "  <thead>\n",
       "    <tr style=\"text-align: right;\">\n",
       "      <th></th>\n",
       "      <th>psi</th>\n",
       "      <th>psi_0</th>\n",
       "      <th>Delta_E</th>\n",
       "    </tr>\n",
       "  </thead>\n",
       "  <tbody>\n",
       "    <tr>\n",
       "      <th>0</th>\n",
       "      <td>[6.359758636235529e-25, 3.7591493266189453e-20...</td>\n",
       "      <td>[(-1.5119156519229757e-05-3.2763502008358833e-...</td>\n",
       "      <td>[50.62463327111188]</td>\n",
       "    </tr>\n",
       "    <tr>\n",
       "      <th>1</th>\n",
       "      <td>[0.03688783193416379, 0.19517139650650375, 2.4...</td>\n",
       "      <td>[(9.861157262048135e-08+1.3978998158656355e-06...</td>\n",
       "      <td>[22.128591283819052]</td>\n",
       "    </tr>\n",
       "    <tr>\n",
       "      <th>2</th>\n",
       "      <td>[4.0708117428459496e-22, 2.787698292706986e-18...</td>\n",
       "      <td>[(0.07908495367337089+0.007966958173983412j), ...</td>\n",
       "      <td>[35.079728773335894]</td>\n",
       "    </tr>\n",
       "    <tr>\n",
       "      <th>3</th>\n",
       "      <td>[1.0265045920083032e-23, 2.6279603525431615e-2...</td>\n",
       "      <td>[(0.000329141386670597+0.00042846334622846855j...</td>\n",
       "      <td>[46.282994739648785]</td>\n",
       "    </tr>\n",
       "    <tr>\n",
       "      <th>4</th>\n",
       "      <td>[1.1004795290580165e-14, 1.1724553987184365e-1...</td>\n",
       "      <td>[(0.0018149926178084696-0.005742942886080615j)...</td>\n",
       "      <td>[28.0341601441839]</td>\n",
       "    </tr>\n",
       "    <tr>\n",
       "      <th>...</th>\n",
       "      <td>...</td>\n",
       "      <td>...</td>\n",
       "      <td>...</td>\n",
       "    </tr>\n",
       "    <tr>\n",
       "      <th>119</th>\n",
       "      <td>[4.839431401202936e-27, 1.7937476908629981e-31...</td>\n",
       "      <td>[(0.008959882159225444+0.022015479692153037j),...</td>\n",
       "      <td>[41.02760079240029]</td>\n",
       "    </tr>\n",
       "    <tr>\n",
       "      <th>120</th>\n",
       "      <td>[2.4361244849056852e-21, 1.7056270126221986e-2...</td>\n",
       "      <td>[(0.03350823911484061-0.026455572454019496j), ...</td>\n",
       "      <td>[34.5096965359166]</td>\n",
       "    </tr>\n",
       "    <tr>\n",
       "      <th>121</th>\n",
       "      <td>[2.7191043858520953e-42, 3.609566538525037e-43...</td>\n",
       "      <td>[(0.0002627428841254333+0.0014353124407846995j...</td>\n",
       "      <td>[45.57670085127515]</td>\n",
       "    </tr>\n",
       "    <tr>\n",
       "      <th>122</th>\n",
       "      <td>[8.348731364499197e-21, 1.2311110709340184e-18...</td>\n",
       "      <td>[(0.00013844551075740616+6.557739640210776e-06...</td>\n",
       "      <td>[43.41855219512466]</td>\n",
       "    </tr>\n",
       "    <tr>\n",
       "      <th>123</th>\n",
       "      <td>[1.2829831241072339e-07, 2.2746795854473926e-0...</td>\n",
       "      <td>[(0.0014697930568980397+0.0021186972064727396j...</td>\n",
       "      <td>[31.383937071064437]</td>\n",
       "    </tr>\n",
       "  </tbody>\n",
       "</table>\n",
       "<p>124 rows × 3 columns</p>\n",
       "</div>"
      ],
      "text/plain": [
       "                                                   psi  \\\n",
       "0    [6.359758636235529e-25, 3.7591493266189453e-20...   \n",
       "1    [0.03688783193416379, 0.19517139650650375, 2.4...   \n",
       "2    [4.0708117428459496e-22, 2.787698292706986e-18...   \n",
       "3    [1.0265045920083032e-23, 2.6279603525431615e-2...   \n",
       "4    [1.1004795290580165e-14, 1.1724553987184365e-1...   \n",
       "..                                                 ...   \n",
       "119  [4.839431401202936e-27, 1.7937476908629981e-31...   \n",
       "120  [2.4361244849056852e-21, 1.7056270126221986e-2...   \n",
       "121  [2.7191043858520953e-42, 3.609566538525037e-43...   \n",
       "122  [8.348731364499197e-21, 1.2311110709340184e-18...   \n",
       "123  [1.2829831241072339e-07, 2.2746795854473926e-0...   \n",
       "\n",
       "                                                 psi_0               Delta_E  \n",
       "0    [(-1.5119156519229757e-05-3.2763502008358833e-...   [50.62463327111188]  \n",
       "1    [(9.861157262048135e-08+1.3978998158656355e-06...  [22.128591283819052]  \n",
       "2    [(0.07908495367337089+0.007966958173983412j), ...  [35.079728773335894]  \n",
       "3    [(0.000329141386670597+0.00042846334622846855j...  [46.282994739648785]  \n",
       "4    [(0.0018149926178084696-0.005742942886080615j)...    [28.0341601441839]  \n",
       "..                                                 ...                   ...  \n",
       "119  [(0.008959882159225444+0.022015479692153037j),...   [41.02760079240029]  \n",
       "120  [(0.03350823911484061-0.026455572454019496j), ...    [34.5096965359166]  \n",
       "121  [(0.0002627428841254333+0.0014353124407846995j...   [45.57670085127515]  \n",
       "122  [(0.00013844551075740616+6.557739640210776e-06...   [43.41855219512466]  \n",
       "123  [(0.0014697930568980397+0.0021186972064727396j...  [31.383937071064437]  \n",
       "\n",
       "[124 rows x 3 columns]"
      ]
     },
     "execution_count": 70,
     "metadata": {},
     "output_type": "execute_result"
    }
   ],
   "source": [
    "from analysis import *\n",
    "load_outputs_to_dataframe(h5_files)"
   ]
  },
  {
   "cell_type": "code",
   "execution_count": null,
   "id": "e4fb4652",
   "metadata": {},
   "outputs": [],
   "source": [
    "# os.chdir(\"Netket\")\n",
    "import importlib\n",
    "import analysis\n",
    "importlib.reload(analysis)"
   ]
  },
  {
   "cell_type": "code",
   "execution_count": null,
   "id": "8965e5f6",
   "metadata": {},
   "outputs": [],
   "source": [
    "hypotheses = {\n",
    "    \"mean_phase\" : mean_phase,\n",
    "    \"IPR\" : ipr,\n",
    "    \"SPCA\" : pca_entropy,\n",
    "    \"Renyi_2\" : renyi_entropy,\n",
    "}\n",
    "\n",
    "df = load_outputs_to_dataframe(h5_files)\n",
    "df = attach_hypotheses_fields(df, hypotheses)"
   ]
  },
  {
   "cell_type": "code",
   "execution_count": 98,
   "id": "bc449e7e",
   "metadata": {},
   "outputs": [
    {
     "data": {
      "image/png": "[encoded data removed]",
      "text/plain": [
       "<Figure size 960x600 with 12 Axes>"
      ]
     },
     "metadata": {},
     "output_type": "display_data"
    }
   ],
   "source": [
    "import matplotlib.pyplot as plt\n",
    "N = len(hypothesis_names)\n",
    "fig, axes = plt.subplots(3, N, figsize=(0.6*4*N, 0.6*10), sharey='row', sharex='col')\n",
    "\n",
    "for idx, name in enumerate(hypotheses.keys()):\n",
    "    # First row: Histogram of hypothesis values\n",
    "    axes[0, idx].hist(df[name], bins=30, color=\"C2\", alpha=0.7)\n",
    "    axes[0, idx].set_title(f\"{name}\")\n",
    "    if idx == 0:\n",
    "        axes[0, 0].set_ylabel(\"Count\")\n",
    "\n",
    "    # Second row: Energy error vs hypothesis\n",
    "    axes[1, idx].scatter(df[name], df[\"Delta_E\"].apply(lambda x: x[0]), color=\"C0\", alpha=0.8)\n",
    "    if idx == 0:\n",
    "        axes[1, 0].set_ylabel(\"Energy Error\")\n",
    "\n",
    "    # Third row: Infidelity vs hypothesis\n",
    "    infid = df.apply(lambda row: infidelity(row[\"psi\"], row[\"psi_0\"]), axis=1)\n",
    "    axes[2, idx].scatter(df[name], infid, color=\"C1\", alpha=0.8)\n",
    "    axes[2, idx].set_xlabel(name)\n",
    "    if idx == 0:\n",
    "        axes[2, 0].set_ylabel(\"Infidelity\")\n",
    "\n",
    "plt.tight_layout(pad=0, h_pad=0, w_pad=0)\n",
    "plt.show()\n"
   ]
  },
  {
   "cell_type": "code",
   "execution_count": 99,
   "id": "31e0885b",
   "metadata": {},
   "outputs": [
    {
     "data": {
      "image/png": "[encoded data removed]",
      "text/plain": [
       "<Figure size 600x400 with 1 Axes>"
      ]
     },
     "metadata": {},
     "output_type": "display_data"
    }
   ],
   "source": [
    "plt.figure(figsize=(6, 4))\n",
    "plt.scatter(df[\"Delta_E\"].apply(lambda x: x[0]), infid, alpha=0.7)\n",
    "plt.xlabel(\"Energy Error\")\n",
    "plt.ylabel(\"Infidelity\")\n",
    "plt.show()"
   ]
  }
 ],
 "metadata": {
  "kernelspec": {
   "display_name": "venv",
   "language": "python",
   "name": "python3"
  },
  "language_info": {
   "codemirror_mode": {
    "name": "ipython",
    "version": 3
   },
   "file_extension": ".py",
   "mimetype": "text/x-python",
   "name": "python",
   "nbconvert_exporter": "python",
   "pygments_lexer": "ipython3",
   "version": "3.13.5"
  }
 },
 "nbformat": 4,
 "nbformat_minor": 5
}
