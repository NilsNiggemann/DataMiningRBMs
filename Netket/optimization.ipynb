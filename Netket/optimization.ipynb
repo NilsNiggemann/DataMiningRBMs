{
 "cells": [
  {
   "cell_type": "code",
   "execution_count": null,
   "id": "a5990628",
   "metadata": {},
   "outputs": [],
   "source": [
    "from optimization import *\n",
    "import h5py"
   ]
  },
  {
   "cell_type": "code",
   "execution_count": 121,
   "id": "4082aff7",
   "metadata": {},
   "outputs": [],
   "source": [
    "# Todo: replace this function with actual file reading\n",
    "def readHamiltonian_params(file, idx, N):\n",
    "    Jijalphabeta = np.random.rand(3, 3, N, N)\n",
    "    h = np.random.rand(3, N)\n",
    "\n",
    "    # Delete 90% of the elements randomly in Jijalphabeta\n",
    "    mask_J = np.random.rand(3, 3, N, N) < 0.1\n",
    "    Jijalphabeta = Jijalphabeta * mask_J\n",
    "\n",
    "    # Delete 90% of the elements randomly in h\n",
    "    mask_h = np.random.rand(3, N) < 0.1\n",
    "    h = h * mask_h\n",
    "\n",
    "    return Jijalphabeta, h\n",
    "\n",
    "\n",
    "def generate_tfim_params(N, J=1.0, h=1.0):\n",
    "    \"\"\"\n",
    "    Generates Jij and h arrays for the transverse field Ising model (TFIM):\n",
    "    H = -J sum_{<i,j>} sigma^z_i sigma^z_j - h sum_i sigma^x_i\n",
    "\n",
    "    Args:\n",
    "        N (int): Number of spins (1D chain with periodic boundary).\n",
    "        J (float): Coupling strength.\n",
    "        h (float): Transverse field strength.\n",
    "\n",
    "    Returns:\n",
    "        Jij (np.ndarray): shape (3, 3, N, N), only Jij[2,2,i,j] nonzero for nearest neighbors.\n",
    "        h (np.ndarray): shape (3, N), only h[0,i] nonzero (x direction).\n",
    "    \"\"\"\n",
    "    Jij = np.zeros((3, 3, N, N))\n",
    "    for i in range(N):\n",
    "        j = (i + 1) % N  # periodic boundary\n",
    "        Jij[2, 2, i, j] = -J\n",
    "        Jij[2, 2, j, i] = -J  # symmetric\n",
    "\n",
    "    h_arr = np.zeros((3, N))\n",
    "    h_arr[0, :] = -h  # transverse field in x direction\n",
    "\n",
    "    return Jij, h_arr"
   ]
  },
  {
   "cell_type": "code",
   "execution_count": 125,
   "id": "e699f6ef",
   "metadata": {},
   "outputs": [
    {
     "name": "stdout",
     "output_type": "stream",
     "text": [
      "Exact ground state energy: [-14.02114449]\n"
     ]
    }
   ],
   "source": [
    "# Jij, h = readHamiltonian_params(\"hamiltonian_params.txt\", 0, 8)\n",
    "Jij, h = generate_tfim_params(12, J=-1.0, h=0.8)\n",
    "H = construct_hamiltonian(Jij, h)\n",
    "exact_ground_energy,exact_ground_state = nk.exact.lanczos_ed(H, k = 1, compute_eigenvectors = True)\n",
    "print(\"Exact ground state energy:\", exact_ground_energy)"
   ]
  },
  {
   "cell_type": "code",
   "execution_count": 126,
   "id": "d779024c",
   "metadata": {},
   "outputs": [
    {
     "name": "stderr",
     "output_type": "stream",
     "text": [
      "100%|██████████| 500/500 [00:07<00:00, 68.20it/s, Energy=-1.402e+01 ± 0.000e+00 [σ²=8.518e-03]]\n"
     ]
    }
   ],
   "source": [
    "\n",
    "params = {\n",
    "    \"alpha\": 5,\n",
    "    \"seed\": 1234,\n",
    "    \"learning_rate\": 0.01,\n",
    "    \"n_iter\": 500,\n",
    "    \"show_progress\": True,\n",
    "}\n",
    "out = optimize_rbm(H, params)\n"
   ]
  },
  {
   "cell_type": "code",
   "execution_count": 136,
   "id": "b7a81b0d",
   "metadata": {},
   "outputs": [
    {
     "data": {
      "text/plain": [
       "()"
      ]
     },
     "execution_count": 136,
     "metadata": {},
     "output_type": "execute_result"
    }
   ],
   "source": [
    "out[\"log\"]"
   ]
  },
  {
   "cell_type": "code",
   "execution_count": 135,
   "id": "137e5456",
   "metadata": {},
   "outputs": [],
   "source": [
    "def write_output(H, out):\n",
    "    vstate = out[\"vstate\"]\n",
    "    psi = vstate.to_array()\n",
    "    # Try to get the last energy value if available, else set to None\n",
    "    en_var = None\n",
    "    if isinstance(out.get(\"log\", None), dict) and \"Energy\" in out[\"log\"]:\n",
    "        en_var = out[\"log\"][\"Energy\"][-1]\n",
    "    exact_ground_energy, psi_0 = nk.exact.lanczos_ed(H, k=1, compute_eigenvectors=True)\n",
    "    psi_0 = psi_0[:, 0]  # Get the ground state vector\n",
    "    with h5py.File(\"output.h5\", \"w\") as f:\n",
    "        f.create_dataset(\"psi\", data=psi)\n",
    "        f.create_dataset(\"en_var\", data=en_var if en_var is not None else -1)\n",
    "        f.create_dataset(\"exact_ground_energy\", data=exact_ground_energy)\n",
    "        f.create_dataset(\"psi_0\", data=psi_0)\n",
    "\n",
    "write_output(H, out)\n"
   ]
  },
  {
   "cell_type": "code",
   "execution_count": 129,
   "id": "b403c512",
   "metadata": {},
   "outputs": [
    {
     "data": {
      "text/plain": [
       "np.float64(0.01384851176754883)"
      ]
     },
     "execution_count": 129,
     "metadata": {},
     "output_type": "execute_result"
    }
   ],
   "source": [
    "np.linalg.norm(out[\"vstate\"].to_array() - exact_ground_state[:,0])"
   ]
  }
 ],
 "metadata": {
  "kernelspec": {
   "display_name": "venv",
   "language": "python",
   "name": "python3"
  },
  "language_info": {
   "codemirror_mode": {
    "name": "ipython",
    "version": 3
   },
   "file_extension": ".py",
   "mimetype": "text/x-python",
   "name": "python",
   "nbconvert_exporter": "python",
   "pygments_lexer": "ipython3",
   "version": "3.13.5"
  }
 },
 "nbformat": 4,
 "nbformat_minor": 5
}
